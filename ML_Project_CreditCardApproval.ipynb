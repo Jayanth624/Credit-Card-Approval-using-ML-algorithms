{
  "cells": [
    {
      "cell_type": "markdown",
      "metadata": {
        "id": "IOT7fjAdqYcw"
      },
      "source": [
        "# **COURSE**          : Introduction to Machine Learning \n",
        "\n",
        "# **COURSE-CODE**      : CSE-3008 \n",
        "\n",
        "# **SLOT**             : L41 + L42"
      ]
    },
    {
      "cell_type": "markdown",
      "metadata": {
        "id": "UQTe8KW9YYCK"
      },
      "source": [
        "# **TEAM MEMBERS**\n",
        "\n",
        "**S.Jayanth - 19BCD7098**\n",
        "\n",
        "**N.V. Seetharam - 19BCD7185**\n",
        "\n",
        "**U.P.L. Abhinav - 19BCN7191**\n",
        "\n",
        "**Ch. B V S N Pavan Kumar - 19BCE7653** "
      ]
    },
    {
      "cell_type": "markdown",
      "metadata": {
        "id": "eLpeFDOuMPtN"
      },
      "source": [
        "## **Project Title :** ***Credit Card Applications***"
      ]
    },
    {
      "cell_type": "markdown",
      "metadata": {
        "id": "qMuWzpSJMPtQ"
      },
      "source": [
        "Commercial banks receive a lot of applications for credit cards. Many of them get rejected for many reasons, like high loan balances, low income levels, or too many inquiries on an individual's credit report. I just recently got a credit card, and the analysis of this dataset will give me a general idea of the most important features that makes one qualify for credit card"
      ]
    },
    {
      "cell_type": "markdown",
      "metadata": {
        "id": "KQyQQpZIMPtR"
      },
      "source": [
        "For this project, we will use [Credit Card approval dataset](http://archive.ics.uci.edu/ml/datasets/credit+approval) from the UCI machine learning repository, and compare different machine learning algorithms in predicting approval status. The metric for comparison that will be used is accuracy score. "
      ]
    },
    {
      "cell_type": "code",
      "execution_count": 62,
      "metadata": {
        "id": "jdFiS7TzMPtS"
      },
      "outputs": [],
      "source": [
        "#necessary imports\n",
        "import numpy as np\n",
        "import pandas as pd\n",
        "import seaborn as sns\n",
        "import matplotlib.pyplot as plt\n",
        "%matplotlib inline\n",
        "from sklearn.model_selection import train_test_split\n",
        "from sklearn.metrics import accuracy_score\n",
        "from sklearn.metrics import classification_report\n",
        "\n",
        "#ignore warnings\n",
        "import warnings\n",
        "warnings.filterwarnings('ignore')"
      ]
    },
    {
      "cell_type": "markdown",
      "metadata": {
        "id": "Cd_zXXU_MPtU"
      },
      "source": [
        "## Load Dataset"
      ]
    },
    {
      "cell_type": "code",
      "execution_count": 63,
      "metadata": {
        "colab": {
          "base_uri": "https://localhost:8080/"
        },
        "id": "2CWRKLNgN-r-",
        "outputId": "84da189f-bbfc-4a24-d9bc-c94e1f26153b"
      },
      "outputs": [
        {
          "output_type": "stream",
          "name": "stdout",
          "text": [
            "Drive already mounted at /content/drive; to attempt to forcibly remount, call drive.mount(\"/content/drive\", force_remount=True).\n"
          ]
        }
      ],
      "source": [
        "#connecting to drive\n",
        "from google.colab import drive\n",
        "drive.mount('/content/drive')"
      ]
    },
    {
      "cell_type": "code",
      "execution_count": 64,
      "metadata": {
        "id": "KirnWwslMPtU"
      },
      "outputs": [],
      "source": [
        "#load dataset\n",
        "CC_data = pd.read_csv('/content/drive/My Drive/Colab Notebooks/crx.csv', names = [\"Gender\", \"Age\", \"Debt\", \"Married\", \"BankCustomer\", \"EducationLevel\", \"Ethnicity\", \"YearsEmployed\", \"PriorDefault\", \"Employed\", \\\n",
        "                                         \"CreditScore\", \"DriversLicense\", \"Citizen\", \"ZipCode\", \"Income\", \"ApprovalStatus\"])\n"
      ]
    },
    {
      "cell_type": "code",
      "execution_count": 65,
      "metadata": {
        "colab": {
          "base_uri": "https://localhost:8080/",
          "height": 250
        },
        "id": "n_DSe2ldMPtV",
        "outputId": "e6f56d32-ef41-42a2-e15d-a0405182b909"
      },
      "outputs": [
        {
          "output_type": "execute_result",
          "data": {
            "text/plain": [
              "  Gender    Age   Debt Married BankCustomer EducationLevel Ethnicity  \\\n",
              "0      b  30.83  0.000       u            g              w         v   \n",
              "1      a  58.67  4.460       u            g              q         h   \n",
              "2      a  24.50  0.500       u            g              q         h   \n",
              "3      b  27.83  1.540       u            g              w         v   \n",
              "4      b  20.17  5.625       u            g              w         v   \n",
              "\n",
              "   YearsEmployed PriorDefault Employed  CreditScore DriversLicense Citizen  \\\n",
              "0           1.25            t        t            1              f       g   \n",
              "1           3.04            t        t            6              f       g   \n",
              "2           1.50            t        f            0              f       g   \n",
              "3           3.75            t        t            5              t       g   \n",
              "4           1.71            t        f            0              f       s   \n",
              "\n",
              "  ZipCode  Income ApprovalStatus  \n",
              "0   00202       0              +  \n",
              "1   00043     560              +  \n",
              "2   00280     824              +  \n",
              "3   00100       3              +  \n",
              "4   00120       0              +  "
            ],
            "text/html": [
              "\n",
              "  <div id=\"df-a88a2b87-60f7-48e6-a935-5f0e925e7afb\">\n",
              "    <div class=\"colab-df-container\">\n",
              "      <div>\n",
              "<style scoped>\n",
              "    .dataframe tbody tr th:only-of-type {\n",
              "        vertical-align: middle;\n",
              "    }\n",
              "\n",
              "    .dataframe tbody tr th {\n",
              "        vertical-align: top;\n",
              "    }\n",
              "\n",
              "    .dataframe thead th {\n",
              "        text-align: right;\n",
              "    }\n",
              "</style>\n",
              "<table border=\"1\" class=\"dataframe\">\n",
              "  <thead>\n",
              "    <tr style=\"text-align: right;\">\n",
              "      <th></th>\n",
              "      <th>Gender</th>\n",
              "      <th>Age</th>\n",
              "      <th>Debt</th>\n",
              "      <th>Married</th>\n",
              "      <th>BankCustomer</th>\n",
              "      <th>EducationLevel</th>\n",
              "      <th>Ethnicity</th>\n",
              "      <th>YearsEmployed</th>\n",
              "      <th>PriorDefault</th>\n",
              "      <th>Employed</th>\n",
              "      <th>CreditScore</th>\n",
              "      <th>DriversLicense</th>\n",
              "      <th>Citizen</th>\n",
              "      <th>ZipCode</th>\n",
              "      <th>Income</th>\n",
              "      <th>ApprovalStatus</th>\n",
              "    </tr>\n",
              "  </thead>\n",
              "  <tbody>\n",
              "    <tr>\n",
              "      <th>0</th>\n",
              "      <td>b</td>\n",
              "      <td>30.83</td>\n",
              "      <td>0.000</td>\n",
              "      <td>u</td>\n",
              "      <td>g</td>\n",
              "      <td>w</td>\n",
              "      <td>v</td>\n",
              "      <td>1.25</td>\n",
              "      <td>t</td>\n",
              "      <td>t</td>\n",
              "      <td>1</td>\n",
              "      <td>f</td>\n",
              "      <td>g</td>\n",
              "      <td>00202</td>\n",
              "      <td>0</td>\n",
              "      <td>+</td>\n",
              "    </tr>\n",
              "    <tr>\n",
              "      <th>1</th>\n",
              "      <td>a</td>\n",
              "      <td>58.67</td>\n",
              "      <td>4.460</td>\n",
              "      <td>u</td>\n",
              "      <td>g</td>\n",
              "      <td>q</td>\n",
              "      <td>h</td>\n",
              "      <td>3.04</td>\n",
              "      <td>t</td>\n",
              "      <td>t</td>\n",
              "      <td>6</td>\n",
              "      <td>f</td>\n",
              "      <td>g</td>\n",
              "      <td>00043</td>\n",
              "      <td>560</td>\n",
              "      <td>+</td>\n",
              "    </tr>\n",
              "    <tr>\n",
              "      <th>2</th>\n",
              "      <td>a</td>\n",
              "      <td>24.50</td>\n",
              "      <td>0.500</td>\n",
              "      <td>u</td>\n",
              "      <td>g</td>\n",
              "      <td>q</td>\n",
              "      <td>h</td>\n",
              "      <td>1.50</td>\n",
              "      <td>t</td>\n",
              "      <td>f</td>\n",
              "      <td>0</td>\n",
              "      <td>f</td>\n",
              "      <td>g</td>\n",
              "      <td>00280</td>\n",
              "      <td>824</td>\n",
              "      <td>+</td>\n",
              "    </tr>\n",
              "    <tr>\n",
              "      <th>3</th>\n",
              "      <td>b</td>\n",
              "      <td>27.83</td>\n",
              "      <td>1.540</td>\n",
              "      <td>u</td>\n",
              "      <td>g</td>\n",
              "      <td>w</td>\n",
              "      <td>v</td>\n",
              "      <td>3.75</td>\n",
              "      <td>t</td>\n",
              "      <td>t</td>\n",
              "      <td>5</td>\n",
              "      <td>t</td>\n",
              "      <td>g</td>\n",
              "      <td>00100</td>\n",
              "      <td>3</td>\n",
              "      <td>+</td>\n",
              "    </tr>\n",
              "    <tr>\n",
              "      <th>4</th>\n",
              "      <td>b</td>\n",
              "      <td>20.17</td>\n",
              "      <td>5.625</td>\n",
              "      <td>u</td>\n",
              "      <td>g</td>\n",
              "      <td>w</td>\n",
              "      <td>v</td>\n",
              "      <td>1.71</td>\n",
              "      <td>t</td>\n",
              "      <td>f</td>\n",
              "      <td>0</td>\n",
              "      <td>f</td>\n",
              "      <td>s</td>\n",
              "      <td>00120</td>\n",
              "      <td>0</td>\n",
              "      <td>+</td>\n",
              "    </tr>\n",
              "  </tbody>\n",
              "</table>\n",
              "</div>\n",
              "      <button class=\"colab-df-convert\" onclick=\"convertToInteractive('df-a88a2b87-60f7-48e6-a935-5f0e925e7afb')\"\n",
              "              title=\"Convert this dataframe to an interactive table.\"\n",
              "              style=\"display:none;\">\n",
              "        \n",
              "  <svg xmlns=\"http://www.w3.org/2000/svg\" height=\"24px\"viewBox=\"0 0 24 24\"\n",
              "       width=\"24px\">\n",
              "    <path d=\"M0 0h24v24H0V0z\" fill=\"none\"/>\n",
              "    <path d=\"M18.56 5.44l.94 2.06.94-2.06 2.06-.94-2.06-.94-.94-2.06-.94 2.06-2.06.94zm-11 1L8.5 8.5l.94-2.06 2.06-.94-2.06-.94L8.5 2.5l-.94 2.06-2.06.94zm10 10l.94 2.06.94-2.06 2.06-.94-2.06-.94-.94-2.06-.94 2.06-2.06.94z\"/><path d=\"M17.41 7.96l-1.37-1.37c-.4-.4-.92-.59-1.43-.59-.52 0-1.04.2-1.43.59L10.3 9.45l-7.72 7.72c-.78.78-.78 2.05 0 2.83L4 21.41c.39.39.9.59 1.41.59.51 0 1.02-.2 1.41-.59l7.78-7.78 2.81-2.81c.8-.78.8-2.07 0-2.86zM5.41 20L4 18.59l7.72-7.72 1.47 1.35L5.41 20z\"/>\n",
              "  </svg>\n",
              "      </button>\n",
              "      \n",
              "  <style>\n",
              "    .colab-df-container {\n",
              "      display:flex;\n",
              "      flex-wrap:wrap;\n",
              "      gap: 12px;\n",
              "    }\n",
              "\n",
              "    .colab-df-convert {\n",
              "      background-color: #E8F0FE;\n",
              "      border: none;\n",
              "      border-radius: 50%;\n",
              "      cursor: pointer;\n",
              "      display: none;\n",
              "      fill: #1967D2;\n",
              "      height: 32px;\n",
              "      padding: 0 0 0 0;\n",
              "      width: 32px;\n",
              "    }\n",
              "\n",
              "    .colab-df-convert:hover {\n",
              "      background-color: #E2EBFA;\n",
              "      box-shadow: 0px 1px 2px rgba(60, 64, 67, 0.3), 0px 1px 3px 1px rgba(60, 64, 67, 0.15);\n",
              "      fill: #174EA6;\n",
              "    }\n",
              "\n",
              "    [theme=dark] .colab-df-convert {\n",
              "      background-color: #3B4455;\n",
              "      fill: #D2E3FC;\n",
              "    }\n",
              "\n",
              "    [theme=dark] .colab-df-convert:hover {\n",
              "      background-color: #434B5C;\n",
              "      box-shadow: 0px 1px 3px 1px rgba(0, 0, 0, 0.15);\n",
              "      filter: drop-shadow(0px 1px 2px rgba(0, 0, 0, 0.3));\n",
              "      fill: #FFFFFF;\n",
              "    }\n",
              "  </style>\n",
              "\n",
              "      <script>\n",
              "        const buttonEl =\n",
              "          document.querySelector('#df-a88a2b87-60f7-48e6-a935-5f0e925e7afb button.colab-df-convert');\n",
              "        buttonEl.style.display =\n",
              "          google.colab.kernel.accessAllowed ? 'block' : 'none';\n",
              "\n",
              "        async function convertToInteractive(key) {\n",
              "          const element = document.querySelector('#df-a88a2b87-60f7-48e6-a935-5f0e925e7afb');\n",
              "          const dataTable =\n",
              "            await google.colab.kernel.invokeFunction('convertToInteractive',\n",
              "                                                     [key], {});\n",
              "          if (!dataTable) return;\n",
              "\n",
              "          const docLinkHtml = 'Like what you see? Visit the ' +\n",
              "            '<a target=\"_blank\" href=https://colab.research.google.com/notebooks/data_table.ipynb>data table notebook</a>'\n",
              "            + ' to learn more about interactive tables.';\n",
              "          element.innerHTML = '';\n",
              "          dataTable['output_type'] = 'display_data';\n",
              "          await google.colab.output.renderOutput(dataTable, element);\n",
              "          const docLink = document.createElement('div');\n",
              "          docLink.innerHTML = docLinkHtml;\n",
              "          element.appendChild(docLink);\n",
              "        }\n",
              "      </script>\n",
              "    </div>\n",
              "  </div>\n",
              "  "
            ]
          },
          "metadata": {},
          "execution_count": 65
        }
      ],
      "source": [
        "#inspect data\n",
        "CC_data.head()"
      ]
    },
    {
      "cell_type": "code",
      "source": [
        "CC_data.info()"
      ],
      "metadata": {
        "colab": {
          "base_uri": "https://localhost:8080/"
        },
        "id": "vrF25ml_hqzz",
        "outputId": "d514c850-e211-4f1e-ee20-ef24121c7229"
      },
      "execution_count": 66,
      "outputs": [
        {
          "output_type": "stream",
          "name": "stdout",
          "text": [
            "<class 'pandas.core.frame.DataFrame'>\n",
            "RangeIndex: 690 entries, 0 to 689\n",
            "Data columns (total 16 columns):\n",
            " #   Column          Non-Null Count  Dtype  \n",
            "---  ------          --------------  -----  \n",
            " 0   Gender          690 non-null    object \n",
            " 1   Age             690 non-null    object \n",
            " 2   Debt            690 non-null    float64\n",
            " 3   Married         690 non-null    object \n",
            " 4   BankCustomer    690 non-null    object \n",
            " 5   EducationLevel  690 non-null    object \n",
            " 6   Ethnicity       690 non-null    object \n",
            " 7   YearsEmployed   690 non-null    float64\n",
            " 8   PriorDefault    690 non-null    object \n",
            " 9   Employed        690 non-null    object \n",
            " 10  CreditScore     690 non-null    int64  \n",
            " 11  DriversLicense  690 non-null    object \n",
            " 12  Citizen         690 non-null    object \n",
            " 13  ZipCode         690 non-null    object \n",
            " 14  Income          690 non-null    int64  \n",
            " 15  ApprovalStatus  690 non-null    object \n",
            "dtypes: float64(2), int64(2), object(12)\n",
            "memory usage: 86.4+ KB\n"
          ]
        }
      ]
    },
    {
      "cell_type": "code",
      "source": [
        "CC_data.shape"
      ],
      "metadata": {
        "colab": {
          "base_uri": "https://localhost:8080/"
        },
        "id": "L3qTwjtKhuZy",
        "outputId": "1583551b-6b59-45fb-c4ad-a84aace9823e"
      },
      "execution_count": 67,
      "outputs": [
        {
          "output_type": "execute_result",
          "data": {
            "text/plain": [
              "(690, 16)"
            ]
          },
          "metadata": {},
          "execution_count": 67
        }
      ]
    },
    {
      "cell_type": "markdown",
      "metadata": {
        "id": "yIURD2KGYVPl"
      },
      "source": [
        "## 1. Data Understanding"
      ]
    },
    {
      "cell_type": "code",
      "execution_count": 68,
      "metadata": {
        "id": "edgJ9YcfYVPq",
        "scrolled": true
      },
      "outputs": [],
      "source": [
        "# Replace \"?\" with NaN\n",
        "CC_data.replace('?', np.NaN, inplace = True)\n",
        "# Convert Age to numeric\n",
        "CC_data[\"Age\"] = pd.to_numeric(CC_data[\"Age\"])\n",
        "# CC_data2 = CC_data[:,:]\n",
        "CC_data2 = CC_data.copy()"
      ]
    },
    {
      "cell_type": "code",
      "execution_count": 69,
      "metadata": {
        "colab": {
          "base_uri": "https://localhost:8080/",
          "height": 300
        },
        "id": "doWb-n_-YVPs",
        "outputId": "ed2ff6e5-fe19-467a-fb53-333a0aef446e"
      },
      "outputs": [
        {
          "output_type": "execute_result",
          "data": {
            "text/plain": [
              "              Age        Debt  YearsEmployed  CreditScore         Income\n",
              "count  678.000000  690.000000     690.000000    690.00000     690.000000\n",
              "mean    31.568171    4.758725       2.223406      2.40000    1017.385507\n",
              "std     11.957862    4.978163       3.346513      4.86294    5210.102598\n",
              "min     13.750000    0.000000       0.000000      0.00000       0.000000\n",
              "25%     22.602500    1.000000       0.165000      0.00000       0.000000\n",
              "50%     28.460000    2.750000       1.000000      0.00000       5.000000\n",
              "75%     38.230000    7.207500       2.625000      3.00000     395.500000\n",
              "max     80.250000   28.000000      28.500000     67.00000  100000.000000"
            ],
            "text/html": [
              "\n",
              "  <div id=\"df-7c2396ab-ecfd-4e78-b9a4-410ca0690337\">\n",
              "    <div class=\"colab-df-container\">\n",
              "      <div>\n",
              "<style scoped>\n",
              "    .dataframe tbody tr th:only-of-type {\n",
              "        vertical-align: middle;\n",
              "    }\n",
              "\n",
              "    .dataframe tbody tr th {\n",
              "        vertical-align: top;\n",
              "    }\n",
              "\n",
              "    .dataframe thead th {\n",
              "        text-align: right;\n",
              "    }\n",
              "</style>\n",
              "<table border=\"1\" class=\"dataframe\">\n",
              "  <thead>\n",
              "    <tr style=\"text-align: right;\">\n",
              "      <th></th>\n",
              "      <th>Age</th>\n",
              "      <th>Debt</th>\n",
              "      <th>YearsEmployed</th>\n",
              "      <th>CreditScore</th>\n",
              "      <th>Income</th>\n",
              "    </tr>\n",
              "  </thead>\n",
              "  <tbody>\n",
              "    <tr>\n",
              "      <th>count</th>\n",
              "      <td>678.000000</td>\n",
              "      <td>690.000000</td>\n",
              "      <td>690.000000</td>\n",
              "      <td>690.00000</td>\n",
              "      <td>690.000000</td>\n",
              "    </tr>\n",
              "    <tr>\n",
              "      <th>mean</th>\n",
              "      <td>31.568171</td>\n",
              "      <td>4.758725</td>\n",
              "      <td>2.223406</td>\n",
              "      <td>2.40000</td>\n",
              "      <td>1017.385507</td>\n",
              "    </tr>\n",
              "    <tr>\n",
              "      <th>std</th>\n",
              "      <td>11.957862</td>\n",
              "      <td>4.978163</td>\n",
              "      <td>3.346513</td>\n",
              "      <td>4.86294</td>\n",
              "      <td>5210.102598</td>\n",
              "    </tr>\n",
              "    <tr>\n",
              "      <th>min</th>\n",
              "      <td>13.750000</td>\n",
              "      <td>0.000000</td>\n",
              "      <td>0.000000</td>\n",
              "      <td>0.00000</td>\n",
              "      <td>0.000000</td>\n",
              "    </tr>\n",
              "    <tr>\n",
              "      <th>25%</th>\n",
              "      <td>22.602500</td>\n",
              "      <td>1.000000</td>\n",
              "      <td>0.165000</td>\n",
              "      <td>0.00000</td>\n",
              "      <td>0.000000</td>\n",
              "    </tr>\n",
              "    <tr>\n",
              "      <th>50%</th>\n",
              "      <td>28.460000</td>\n",
              "      <td>2.750000</td>\n",
              "      <td>1.000000</td>\n",
              "      <td>0.00000</td>\n",
              "      <td>5.000000</td>\n",
              "    </tr>\n",
              "    <tr>\n",
              "      <th>75%</th>\n",
              "      <td>38.230000</td>\n",
              "      <td>7.207500</td>\n",
              "      <td>2.625000</td>\n",
              "      <td>3.00000</td>\n",
              "      <td>395.500000</td>\n",
              "    </tr>\n",
              "    <tr>\n",
              "      <th>max</th>\n",
              "      <td>80.250000</td>\n",
              "      <td>28.000000</td>\n",
              "      <td>28.500000</td>\n",
              "      <td>67.00000</td>\n",
              "      <td>100000.000000</td>\n",
              "    </tr>\n",
              "  </tbody>\n",
              "</table>\n",
              "</div>\n",
              "      <button class=\"colab-df-convert\" onclick=\"convertToInteractive('df-7c2396ab-ecfd-4e78-b9a4-410ca0690337')\"\n",
              "              title=\"Convert this dataframe to an interactive table.\"\n",
              "              style=\"display:none;\">\n",
              "        \n",
              "  <svg xmlns=\"http://www.w3.org/2000/svg\" height=\"24px\"viewBox=\"0 0 24 24\"\n",
              "       width=\"24px\">\n",
              "    <path d=\"M0 0h24v24H0V0z\" fill=\"none\"/>\n",
              "    <path d=\"M18.56 5.44l.94 2.06.94-2.06 2.06-.94-2.06-.94-.94-2.06-.94 2.06-2.06.94zm-11 1L8.5 8.5l.94-2.06 2.06-.94-2.06-.94L8.5 2.5l-.94 2.06-2.06.94zm10 10l.94 2.06.94-2.06 2.06-.94-2.06-.94-.94-2.06-.94 2.06-2.06.94z\"/><path d=\"M17.41 7.96l-1.37-1.37c-.4-.4-.92-.59-1.43-.59-.52 0-1.04.2-1.43.59L10.3 9.45l-7.72 7.72c-.78.78-.78 2.05 0 2.83L4 21.41c.39.39.9.59 1.41.59.51 0 1.02-.2 1.41-.59l7.78-7.78 2.81-2.81c.8-.78.8-2.07 0-2.86zM5.41 20L4 18.59l7.72-7.72 1.47 1.35L5.41 20z\"/>\n",
              "  </svg>\n",
              "      </button>\n",
              "      \n",
              "  <style>\n",
              "    .colab-df-container {\n",
              "      display:flex;\n",
              "      flex-wrap:wrap;\n",
              "      gap: 12px;\n",
              "    }\n",
              "\n",
              "    .colab-df-convert {\n",
              "      background-color: #E8F0FE;\n",
              "      border: none;\n",
              "      border-radius: 50%;\n",
              "      cursor: pointer;\n",
              "      display: none;\n",
              "      fill: #1967D2;\n",
              "      height: 32px;\n",
              "      padding: 0 0 0 0;\n",
              "      width: 32px;\n",
              "    }\n",
              "\n",
              "    .colab-df-convert:hover {\n",
              "      background-color: #E2EBFA;\n",
              "      box-shadow: 0px 1px 2px rgba(60, 64, 67, 0.3), 0px 1px 3px 1px rgba(60, 64, 67, 0.15);\n",
              "      fill: #174EA6;\n",
              "    }\n",
              "\n",
              "    [theme=dark] .colab-df-convert {\n",
              "      background-color: #3B4455;\n",
              "      fill: #D2E3FC;\n",
              "    }\n",
              "\n",
              "    [theme=dark] .colab-df-convert:hover {\n",
              "      background-color: #434B5C;\n",
              "      box-shadow: 0px 1px 3px 1px rgba(0, 0, 0, 0.15);\n",
              "      filter: drop-shadow(0px 1px 2px rgba(0, 0, 0, 0.3));\n",
              "      fill: #FFFFFF;\n",
              "    }\n",
              "  </style>\n",
              "\n",
              "      <script>\n",
              "        const buttonEl =\n",
              "          document.querySelector('#df-7c2396ab-ecfd-4e78-b9a4-410ca0690337 button.colab-df-convert');\n",
              "        buttonEl.style.display =\n",
              "          google.colab.kernel.accessAllowed ? 'block' : 'none';\n",
              "\n",
              "        async function convertToInteractive(key) {\n",
              "          const element = document.querySelector('#df-7c2396ab-ecfd-4e78-b9a4-410ca0690337');\n",
              "          const dataTable =\n",
              "            await google.colab.kernel.invokeFunction('convertToInteractive',\n",
              "                                                     [key], {});\n",
              "          if (!dataTable) return;\n",
              "\n",
              "          const docLinkHtml = 'Like what you see? Visit the ' +\n",
              "            '<a target=\"_blank\" href=https://colab.research.google.com/notebooks/data_table.ipynb>data table notebook</a>'\n",
              "            + ' to learn more about interactive tables.';\n",
              "          element.innerHTML = '';\n",
              "          dataTable['output_type'] = 'display_data';\n",
              "          await google.colab.output.renderOutput(dataTable, element);\n",
              "          const docLink = document.createElement('div');\n",
              "          docLink.innerHTML = docLinkHtml;\n",
              "          element.appendChild(docLink);\n",
              "        }\n",
              "      </script>\n",
              "    </div>\n",
              "  </div>\n",
              "  "
            ]
          },
          "metadata": {},
          "execution_count": 69
        }
      ],
      "source": [
        "CC_data.describe()"
      ]
    },
    {
      "cell_type": "code",
      "execution_count": 70,
      "metadata": {
        "colab": {
          "base_uri": "https://localhost:8080/"
        },
        "id": "kWeVk5gdYVPw",
        "outputId": "8cdf28e4-676a-411b-95a0-c2ad47bdb9e6"
      },
      "outputs": [
        {
          "output_type": "execute_result",
          "data": {
            "text/plain": [
              "Gender            12\n",
              "Age               12\n",
              "Debt               0\n",
              "Married            6\n",
              "BankCustomer       6\n",
              "EducationLevel     9\n",
              "Ethnicity          9\n",
              "YearsEmployed      0\n",
              "PriorDefault       0\n",
              "Employed           0\n",
              "CreditScore        0\n",
              "DriversLicense     0\n",
              "Citizen            0\n",
              "ZipCode           13\n",
              "Income             0\n",
              "ApprovalStatus     0\n",
              "dtype: int64"
            ]
          },
          "metadata": {},
          "execution_count": 70
        }
      ],
      "source": [
        "CC_data.isnull().sum()"
      ]
    },
    {
      "cell_type": "markdown",
      "metadata": {
        "id": "lDvT5aN4YVP0"
      },
      "source": [
        "## 2. Data Preparation"
      ]
    },
    {
      "cell_type": "code",
      "execution_count": 71,
      "metadata": {
        "id": "LQSygMPwYVP1"
      },
      "outputs": [],
      "source": [
        "# Imputing missing values for numerical columns with mean value\n",
        "CC_data.fillna(CC_data.mean(), inplace=True)"
      ]
    },
    {
      "cell_type": "code",
      "execution_count": 72,
      "metadata": {
        "colab": {
          "base_uri": "https://localhost:8080/",
          "height": 427
        },
        "id": "d1kFmTG4YVP3",
        "outputId": "b2523765-0ad5-4b57-cb9d-163d96861aa3",
        "scrolled": false
      },
      "outputs": [
        {
          "output_type": "execute_result",
          "data": {
            "text/plain": [
              "    Gender    Age    Debt Married BankCustomer EducationLevel Ethnicity  \\\n",
              "680      b  19.50   0.290       u            g              k         v   \n",
              "681      b  27.83   1.000       y            p              d         h   \n",
              "682      b  17.08   3.290       u            g              i         v   \n",
              "683      b  36.42   0.750       y            p              d         v   \n",
              "684      b  40.58   3.290       u            g              m         v   \n",
              "685      b  21.08  10.085       y            p              e         h   \n",
              "686      a  22.67   0.750       u            g              c         v   \n",
              "687      a  25.25  13.500       y            p             ff        ff   \n",
              "688      b  17.92   0.205       u            g             aa         v   \n",
              "689      b  35.00   3.375       u            g              c         h   \n",
              "\n",
              "     YearsEmployed PriorDefault Employed  CreditScore DriversLicense Citizen  \\\n",
              "680          0.290            f        f            0              f       g   \n",
              "681          3.000            f        f            0              f       g   \n",
              "682          0.335            f        f            0              t       g   \n",
              "683          0.585            f        f            0              f       g   \n",
              "684          3.500            f        f            0              t       s   \n",
              "685          1.250            f        f            0              f       g   \n",
              "686          2.000            f        t            2              t       g   \n",
              "687          2.000            f        t            1              t       g   \n",
              "688          0.040            f        f            0              f       g   \n",
              "689          8.290            f        f            0              t       g   \n",
              "\n",
              "    ZipCode  Income ApprovalStatus  \n",
              "680   00280     364              -  \n",
              "681   00176     537              -  \n",
              "682   00140       2              -  \n",
              "683   00240       3              -  \n",
              "684   00400       0              -  \n",
              "685   00260       0              -  \n",
              "686   00200     394              -  \n",
              "687   00200       1              -  \n",
              "688   00280     750              -  \n",
              "689   00000       0              -  "
            ],
            "text/html": [
              "\n",
              "  <div id=\"df-b7b9dd86-024b-4116-8ff7-6985a5d4277f\">\n",
              "    <div class=\"colab-df-container\">\n",
              "      <div>\n",
              "<style scoped>\n",
              "    .dataframe tbody tr th:only-of-type {\n",
              "        vertical-align: middle;\n",
              "    }\n",
              "\n",
              "    .dataframe tbody tr th {\n",
              "        vertical-align: top;\n",
              "    }\n",
              "\n",
              "    .dataframe thead th {\n",
              "        text-align: right;\n",
              "    }\n",
              "</style>\n",
              "<table border=\"1\" class=\"dataframe\">\n",
              "  <thead>\n",
              "    <tr style=\"text-align: right;\">\n",
              "      <th></th>\n",
              "      <th>Gender</th>\n",
              "      <th>Age</th>\n",
              "      <th>Debt</th>\n",
              "      <th>Married</th>\n",
              "      <th>BankCustomer</th>\n",
              "      <th>EducationLevel</th>\n",
              "      <th>Ethnicity</th>\n",
              "      <th>YearsEmployed</th>\n",
              "      <th>PriorDefault</th>\n",
              "      <th>Employed</th>\n",
              "      <th>CreditScore</th>\n",
              "      <th>DriversLicense</th>\n",
              "      <th>Citizen</th>\n",
              "      <th>ZipCode</th>\n",
              "      <th>Income</th>\n",
              "      <th>ApprovalStatus</th>\n",
              "    </tr>\n",
              "  </thead>\n",
              "  <tbody>\n",
              "    <tr>\n",
              "      <th>680</th>\n",
              "      <td>b</td>\n",
              "      <td>19.50</td>\n",
              "      <td>0.290</td>\n",
              "      <td>u</td>\n",
              "      <td>g</td>\n",
              "      <td>k</td>\n",
              "      <td>v</td>\n",
              "      <td>0.290</td>\n",
              "      <td>f</td>\n",
              "      <td>f</td>\n",
              "      <td>0</td>\n",
              "      <td>f</td>\n",
              "      <td>g</td>\n",
              "      <td>00280</td>\n",
              "      <td>364</td>\n",
              "      <td>-</td>\n",
              "    </tr>\n",
              "    <tr>\n",
              "      <th>681</th>\n",
              "      <td>b</td>\n",
              "      <td>27.83</td>\n",
              "      <td>1.000</td>\n",
              "      <td>y</td>\n",
              "      <td>p</td>\n",
              "      <td>d</td>\n",
              "      <td>h</td>\n",
              "      <td>3.000</td>\n",
              "      <td>f</td>\n",
              "      <td>f</td>\n",
              "      <td>0</td>\n",
              "      <td>f</td>\n",
              "      <td>g</td>\n",
              "      <td>00176</td>\n",
              "      <td>537</td>\n",
              "      <td>-</td>\n",
              "    </tr>\n",
              "    <tr>\n",
              "      <th>682</th>\n",
              "      <td>b</td>\n",
              "      <td>17.08</td>\n",
              "      <td>3.290</td>\n",
              "      <td>u</td>\n",
              "      <td>g</td>\n",
              "      <td>i</td>\n",
              "      <td>v</td>\n",
              "      <td>0.335</td>\n",
              "      <td>f</td>\n",
              "      <td>f</td>\n",
              "      <td>0</td>\n",
              "      <td>t</td>\n",
              "      <td>g</td>\n",
              "      <td>00140</td>\n",
              "      <td>2</td>\n",
              "      <td>-</td>\n",
              "    </tr>\n",
              "    <tr>\n",
              "      <th>683</th>\n",
              "      <td>b</td>\n",
              "      <td>36.42</td>\n",
              "      <td>0.750</td>\n",
              "      <td>y</td>\n",
              "      <td>p</td>\n",
              "      <td>d</td>\n",
              "      <td>v</td>\n",
              "      <td>0.585</td>\n",
              "      <td>f</td>\n",
              "      <td>f</td>\n",
              "      <td>0</td>\n",
              "      <td>f</td>\n",
              "      <td>g</td>\n",
              "      <td>00240</td>\n",
              "      <td>3</td>\n",
              "      <td>-</td>\n",
              "    </tr>\n",
              "    <tr>\n",
              "      <th>684</th>\n",
              "      <td>b</td>\n",
              "      <td>40.58</td>\n",
              "      <td>3.290</td>\n",
              "      <td>u</td>\n",
              "      <td>g</td>\n",
              "      <td>m</td>\n",
              "      <td>v</td>\n",
              "      <td>3.500</td>\n",
              "      <td>f</td>\n",
              "      <td>f</td>\n",
              "      <td>0</td>\n",
              "      <td>t</td>\n",
              "      <td>s</td>\n",
              "      <td>00400</td>\n",
              "      <td>0</td>\n",
              "      <td>-</td>\n",
              "    </tr>\n",
              "    <tr>\n",
              "      <th>685</th>\n",
              "      <td>b</td>\n",
              "      <td>21.08</td>\n",
              "      <td>10.085</td>\n",
              "      <td>y</td>\n",
              "      <td>p</td>\n",
              "      <td>e</td>\n",
              "      <td>h</td>\n",
              "      <td>1.250</td>\n",
              "      <td>f</td>\n",
              "      <td>f</td>\n",
              "      <td>0</td>\n",
              "      <td>f</td>\n",
              "      <td>g</td>\n",
              "      <td>00260</td>\n",
              "      <td>0</td>\n",
              "      <td>-</td>\n",
              "    </tr>\n",
              "    <tr>\n",
              "      <th>686</th>\n",
              "      <td>a</td>\n",
              "      <td>22.67</td>\n",
              "      <td>0.750</td>\n",
              "      <td>u</td>\n",
              "      <td>g</td>\n",
              "      <td>c</td>\n",
              "      <td>v</td>\n",
              "      <td>2.000</td>\n",
              "      <td>f</td>\n",
              "      <td>t</td>\n",
              "      <td>2</td>\n",
              "      <td>t</td>\n",
              "      <td>g</td>\n",
              "      <td>00200</td>\n",
              "      <td>394</td>\n",
              "      <td>-</td>\n",
              "    </tr>\n",
              "    <tr>\n",
              "      <th>687</th>\n",
              "      <td>a</td>\n",
              "      <td>25.25</td>\n",
              "      <td>13.500</td>\n",
              "      <td>y</td>\n",
              "      <td>p</td>\n",
              "      <td>ff</td>\n",
              "      <td>ff</td>\n",
              "      <td>2.000</td>\n",
              "      <td>f</td>\n",
              "      <td>t</td>\n",
              "      <td>1</td>\n",
              "      <td>t</td>\n",
              "      <td>g</td>\n",
              "      <td>00200</td>\n",
              "      <td>1</td>\n",
              "      <td>-</td>\n",
              "    </tr>\n",
              "    <tr>\n",
              "      <th>688</th>\n",
              "      <td>b</td>\n",
              "      <td>17.92</td>\n",
              "      <td>0.205</td>\n",
              "      <td>u</td>\n",
              "      <td>g</td>\n",
              "      <td>aa</td>\n",
              "      <td>v</td>\n",
              "      <td>0.040</td>\n",
              "      <td>f</td>\n",
              "      <td>f</td>\n",
              "      <td>0</td>\n",
              "      <td>f</td>\n",
              "      <td>g</td>\n",
              "      <td>00280</td>\n",
              "      <td>750</td>\n",
              "      <td>-</td>\n",
              "    </tr>\n",
              "    <tr>\n",
              "      <th>689</th>\n",
              "      <td>b</td>\n",
              "      <td>35.00</td>\n",
              "      <td>3.375</td>\n",
              "      <td>u</td>\n",
              "      <td>g</td>\n",
              "      <td>c</td>\n",
              "      <td>h</td>\n",
              "      <td>8.290</td>\n",
              "      <td>f</td>\n",
              "      <td>f</td>\n",
              "      <td>0</td>\n",
              "      <td>t</td>\n",
              "      <td>g</td>\n",
              "      <td>00000</td>\n",
              "      <td>0</td>\n",
              "      <td>-</td>\n",
              "    </tr>\n",
              "  </tbody>\n",
              "</table>\n",
              "</div>\n",
              "      <button class=\"colab-df-convert\" onclick=\"convertToInteractive('df-b7b9dd86-024b-4116-8ff7-6985a5d4277f')\"\n",
              "              title=\"Convert this dataframe to an interactive table.\"\n",
              "              style=\"display:none;\">\n",
              "        \n",
              "  <svg xmlns=\"http://www.w3.org/2000/svg\" height=\"24px\"viewBox=\"0 0 24 24\"\n",
              "       width=\"24px\">\n",
              "    <path d=\"M0 0h24v24H0V0z\" fill=\"none\"/>\n",
              "    <path d=\"M18.56 5.44l.94 2.06.94-2.06 2.06-.94-2.06-.94-.94-2.06-.94 2.06-2.06.94zm-11 1L8.5 8.5l.94-2.06 2.06-.94-2.06-.94L8.5 2.5l-.94 2.06-2.06.94zm10 10l.94 2.06.94-2.06 2.06-.94-2.06-.94-.94-2.06-.94 2.06-2.06.94z\"/><path d=\"M17.41 7.96l-1.37-1.37c-.4-.4-.92-.59-1.43-.59-.52 0-1.04.2-1.43.59L10.3 9.45l-7.72 7.72c-.78.78-.78 2.05 0 2.83L4 21.41c.39.39.9.59 1.41.59.51 0 1.02-.2 1.41-.59l7.78-7.78 2.81-2.81c.8-.78.8-2.07 0-2.86zM5.41 20L4 18.59l7.72-7.72 1.47 1.35L5.41 20z\"/>\n",
              "  </svg>\n",
              "      </button>\n",
              "      \n",
              "  <style>\n",
              "    .colab-df-container {\n",
              "      display:flex;\n",
              "      flex-wrap:wrap;\n",
              "      gap: 12px;\n",
              "    }\n",
              "\n",
              "    .colab-df-convert {\n",
              "      background-color: #E8F0FE;\n",
              "      border: none;\n",
              "      border-radius: 50%;\n",
              "      cursor: pointer;\n",
              "      display: none;\n",
              "      fill: #1967D2;\n",
              "      height: 32px;\n",
              "      padding: 0 0 0 0;\n",
              "      width: 32px;\n",
              "    }\n",
              "\n",
              "    .colab-df-convert:hover {\n",
              "      background-color: #E2EBFA;\n",
              "      box-shadow: 0px 1px 2px rgba(60, 64, 67, 0.3), 0px 1px 3px 1px rgba(60, 64, 67, 0.15);\n",
              "      fill: #174EA6;\n",
              "    }\n",
              "\n",
              "    [theme=dark] .colab-df-convert {\n",
              "      background-color: #3B4455;\n",
              "      fill: #D2E3FC;\n",
              "    }\n",
              "\n",
              "    [theme=dark] .colab-df-convert:hover {\n",
              "      background-color: #434B5C;\n",
              "      box-shadow: 0px 1px 3px 1px rgba(0, 0, 0, 0.15);\n",
              "      filter: drop-shadow(0px 1px 2px rgba(0, 0, 0, 0.3));\n",
              "      fill: #FFFFFF;\n",
              "    }\n",
              "  </style>\n",
              "\n",
              "      <script>\n",
              "        const buttonEl =\n",
              "          document.querySelector('#df-b7b9dd86-024b-4116-8ff7-6985a5d4277f button.colab-df-convert');\n",
              "        buttonEl.style.display =\n",
              "          google.colab.kernel.accessAllowed ? 'block' : 'none';\n",
              "\n",
              "        async function convertToInteractive(key) {\n",
              "          const element = document.querySelector('#df-b7b9dd86-024b-4116-8ff7-6985a5d4277f');\n",
              "          const dataTable =\n",
              "            await google.colab.kernel.invokeFunction('convertToInteractive',\n",
              "                                                     [key], {});\n",
              "          if (!dataTable) return;\n",
              "\n",
              "          const docLinkHtml = 'Like what you see? Visit the ' +\n",
              "            '<a target=\"_blank\" href=https://colab.research.google.com/notebooks/data_table.ipynb>data table notebook</a>'\n",
              "            + ' to learn more about interactive tables.';\n",
              "          element.innerHTML = '';\n",
              "          dataTable['output_type'] = 'display_data';\n",
              "          await google.colab.output.renderOutput(dataTable, element);\n",
              "          const docLink = document.createElement('div');\n",
              "          docLink.innerHTML = docLinkHtml;\n",
              "          element.appendChild(docLink);\n",
              "        }\n",
              "      </script>\n",
              "    </div>\n",
              "  </div>\n",
              "  "
            ]
          },
          "metadata": {},
          "execution_count": 72
        }
      ],
      "source": [
        "CC_data.tail(10)"
      ]
    },
    {
      "cell_type": "code",
      "execution_count": 73,
      "metadata": {
        "colab": {
          "base_uri": "https://localhost:8080/"
        },
        "id": "-E7-_Y1HYVP6",
        "outputId": "544832ef-ef1b-4f18-cf7f-bfedc838ea23"
      },
      "outputs": [
        {
          "output_type": "stream",
          "name": "stdout",
          "text": [
            "<class 'pandas.core.frame.DataFrame'>\n",
            "RangeIndex: 690 entries, 0 to 689\n",
            "Data columns (total 16 columns):\n",
            " #   Column          Non-Null Count  Dtype  \n",
            "---  ------          --------------  -----  \n",
            " 0   Gender          678 non-null    object \n",
            " 1   Age             690 non-null    float64\n",
            " 2   Debt            690 non-null    float64\n",
            " 3   Married         684 non-null    object \n",
            " 4   BankCustomer    684 non-null    object \n",
            " 5   EducationLevel  681 non-null    object \n",
            " 6   Ethnicity       681 non-null    object \n",
            " 7   YearsEmployed   690 non-null    float64\n",
            " 8   PriorDefault    690 non-null    object \n",
            " 9   Employed        690 non-null    object \n",
            " 10  CreditScore     690 non-null    int64  \n",
            " 11  DriversLicense  690 non-null    object \n",
            " 12  Citizen         690 non-null    object \n",
            " 13  ZipCode         677 non-null    object \n",
            " 14  Income          690 non-null    int64  \n",
            " 15  ApprovalStatus  690 non-null    object \n",
            "dtypes: float64(3), int64(2), object(11)\n",
            "memory usage: 86.4+ KB\n"
          ]
        }
      ],
      "source": [
        "CC_data.info()"
      ]
    },
    {
      "cell_type": "markdown",
      "metadata": {
        "id": "MBY1La2rYVP9"
      },
      "source": [
        "## 3. Data description and distribution"
      ]
    },
    {
      "cell_type": "code",
      "execution_count": 74,
      "metadata": {
        "colab": {
          "base_uri": "https://localhost:8080/",
          "height": 1000
        },
        "id": "alF2P9uYYVP-",
        "outputId": "21b551ea-2983-4961-ad43-ef3643650533"
      },
      "outputs": [
        {
          "output_type": "display_data",
          "data": {
            "text/plain": [
              "<Figure size 432x288 with 1 Axes>"
            ],
            "image/png": "[encoded data removed]"
          },
          "metadata": {
            "needs_background": "light"
          }
        },
        {
          "output_type": "display_data",
          "data": {
            "text/plain": [
              "<Figure size 432x288 with 1 Axes>"
            ],
            "image/png": "[encoded data removed]"
          },
          "metadata": {
            "needs_background": "light"
          }
        },
        {
          "output_type": "display_data",
          "data": {
            "text/plain": [
              "<Figure size 432x288 with 1 Axes>"
            ],
            "image/png": "[encoded data removed]"
          },
          "metadata": {
            "needs_background": "light"
          }
        },
        {
          "output_type": "display_data",
          "data": {
            "text/plain": [
              "<Figure size 432x288 with 1 Axes>"
            ],
            "image/png": "[encoded data removed]"
          },
          "metadata": {
            "needs_background": "light"
          }
        },
        {
          "output_type": "display_data",
          "data": {
            "text/plain": [
              "<Figure size 432x288 with 1 Axes>"
            ],
            "image/png": "[encoded data removed]"
          },
          "metadata": {
            "needs_background": "light"
          }
        }
      ],
      "source": [
        "def plotDistPlot(col):\n",
        "    \"\"\"Flexibly plot a univariate distribution of observation\"\"\"\n",
        "    sns.distplot(col)\n",
        "    plt.show()\n",
        "plotDistPlot(CC_data['Age'])\n",
        "plotDistPlot(CC_data['Debt'])\n",
        "plotDistPlot(CC_data['YearsEmployed'])\n",
        "plotDistPlot(CC_data['CreditScore'])\n",
        "plotDistPlot(CC_data['Income'])"
      ]
    },
    {
      "cell_type": "code",
      "execution_count": 75,
      "metadata": {
        "colab": {
          "base_uri": "https://localhost:8080/",
          "height": 541
        },
        "id": "WplqIqlwYVQA",
        "outputId": "9e2986b0-71de-43fb-e2c9-f45458863ce0",
        "scrolled": false
      },
      "outputs": [
        {
          "output_type": "display_data",
          "data": {
            "text/plain": [
              "<Figure size 864x648 with 2 Axes>"
            ],
            "image/png": "[encoded data removed]"
          },
          "metadata": {
            "needs_background": "light"
          }
        }
      ],
      "source": [
        "#correlation matrix\n",
        "corrmat = CC_data.corr()\n",
        "f, ax = plt.subplots(figsize=(12, 9))\n",
        "sns.heatmap(corrmat, vmax=.8, square=True);"
      ]
    },
    {
      "cell_type": "code",
      "execution_count": 76,
      "metadata": {
        "id": "vrljIp6jYVQB",
        "colab": {
          "base_uri": "https://localhost:8080/",
          "height": 901
        },
        "outputId": "2c7a42a8-1bf8-4afe-a880-18b4fe6d0279"
      },
      "outputs": [
        {
          "output_type": "display_data",
          "data": {
            "text/plain": [
              "<Figure size 900x900 with 30 Axes>"
            ],
            "image/png": "[encoded data removed]"
          },
          "metadata": {}
        }
      ],
      "source": [
        "#scatterplot\n",
        "sns.set()\n",
        "cols = ['Age', 'Income', 'CreditScore', 'Debt', 'YearsEmployed']\n",
        "sns.pairplot(CC_data[cols], size = 2.5)\n",
        "plt.show();"
      ]
    },
    {
      "cell_type": "code",
      "execution_count": 77,
      "metadata": {
        "id": "pb8D6nINYVQC",
        "colab": {
          "base_uri": "https://localhost:8080/",
          "height": 308
        },
        "outputId": "0eebc321-acd5-47cc-f08c-9f451e802dd9"
      },
      "outputs": [
        {
          "output_type": "execute_result",
          "data": {
            "text/plain": [
              "<matplotlib.axes._subplots.AxesSubplot at 0x7fd639b88490>"
            ]
          },
          "metadata": {},
          "execution_count": 77
        },
        {
          "output_type": "display_data",
          "data": {
            "text/plain": [
              "<Figure size 432x288 with 1 Axes>"
            ],
            "image/png": "[encoded data removed]"
          },
          "metadata": {}
        }
      ],
      "source": [
        "sns.countplot(data = CC_data, x = 'ApprovalStatus')"
      ]
    },
    {
      "cell_type": "markdown",
      "metadata": {
        "id": "ipE5GQveMPtq"
      },
      "source": [
        "#### From the figure above, just over 380 people got denied a credit card and 307 got approved of a credit card"
      ]
    },
    {
      "cell_type": "markdown",
      "metadata": {
        "id": "zpPrTpQbMPtr"
      },
      "source": [
        "#### How is the age distribution of credit card applicants in this data?"
      ]
    },
    {
      "cell_type": "code",
      "execution_count": 78,
      "metadata": {
        "id": "BMyopEffMPts",
        "colab": {
          "base_uri": "https://localhost:8080/",
          "height": 419
        },
        "outputId": "445ffe54-41ba-4fb4-f90d-cad01a336952"
      },
      "outputs": [
        {
          "output_type": "display_data",
          "data": {
            "text/plain": [
              "<Figure size 576x432 with 1 Axes>"
            ],
            "image/png": "[encoded data removed]"
          },
          "metadata": {}
        }
      ],
      "source": [
        "plt.figure(figsize = (8, 6))\n",
        "CC_data['Age'].plot(kind = 'hist', bins = 50)\n",
        "plt.xlabel('Age', fontsize = 15)\n",
        "plt.ylabel('Frequency', fontsize = 15)\n",
        "plt.title('Age distribution of applicants', size = 18)\n",
        "plt.show()"
      ]
    },
    {
      "cell_type": "code",
      "execution_count": 79,
      "metadata": {
        "id": "n23_XSRFMPtt",
        "colab": {
          "base_uri": "https://localhost:8080/"
        },
        "outputId": "e42f3418-7aaf-44a0-9e8a-2e24e19adbdc"
      },
      "outputs": [
        {
          "output_type": "stream",
          "name": "stdout",
          "text": [
            "80.25\n",
            "13.75\n"
          ]
        }
      ],
      "source": [
        "print(CC_data['Age'].max())\n",
        "print(CC_data['Age'].min())"
      ]
    },
    {
      "cell_type": "markdown",
      "metadata": {
        "id": "z-nlz8XxMPt4"
      },
      "source": [
        "#### How does Credit score and Income affect credit card approval?"
      ]
    },
    {
      "cell_type": "code",
      "execution_count": 80,
      "metadata": {
        "colab": {
          "base_uri": "https://localhost:8080/",
          "height": 472
        },
        "id": "dB6JH5pIMPt5",
        "outputId": "d403df60-8311-4589-8e69-0ac5cfa92bf9"
      },
      "outputs": [
        {
          "output_type": "display_data",
          "data": {
            "text/plain": [
              "<Figure size 964.8x432 with 2 Axes>"
            ],
            "image/png": "[encoded data removed]"
          },
          "metadata": {}
        }
      ],
      "source": [
        "plt.rcParams[\"axes.labelsize\"] = 15\n",
        "a = sns.relplot(x='CreditScore', y = 'Income', hue = 'ApprovalStatus',  data = CC_data, height = 6, aspect = 1, col = 'PriorDefault')\n",
        "a.set_axis_labels('CreditScore', 'Income')\n",
        "a.fig.suptitle('The effect of income, credit score, and prior default on credit card approval', position = [.5, 1.05], size = 20)\n",
        "plt.savefig('prior_default_figure.png', bbox_inches = 'tight')\n",
        "plt.show()"
      ]
    },
    {
      "cell_type": "markdown",
      "metadata": {
        "id": "zd56oKORMPt6"
      },
      "source": [
        "From the figure above, we deduce that applicants with high income and/or high credit score are likely to be approved to a credit card. **However, the most important feature that separates the dependendent variable - ApprovalStatus is PriorDefault. The figure shows that most people with PriorDefault are denied a credit card.** "
      ]
    },
    {
      "cell_type": "markdown",
      "metadata": {
        "id": "g_UAIz0eMPt7"
      },
      "source": [
        "### Data Preprocessing"
      ]
    },
    {
      "cell_type": "code",
      "execution_count": 81,
      "metadata": {
        "colab": {
          "base_uri": "https://localhost:8080/"
        },
        "id": "BvoKhqDFYVQE",
        "scrolled": true,
        "outputId": "aa1f2239-b3b3-422d-d62a-d8b292588f3d"
      },
      "outputs": [
        {
          "output_type": "execute_result",
          "data": {
            "text/plain": [
              "Gender            12\n",
              "Age                0\n",
              "Debt               0\n",
              "Married            6\n",
              "BankCustomer       6\n",
              "EducationLevel     9\n",
              "Ethnicity          9\n",
              "YearsEmployed      0\n",
              "PriorDefault       0\n",
              "Employed           0\n",
              "CreditScore        0\n",
              "DriversLicense     0\n",
              "Citizen            0\n",
              "ZipCode           13\n",
              "Income             0\n",
              "ApprovalStatus     0\n",
              "dtype: int64"
            ]
          },
          "metadata": {},
          "execution_count": 81
        }
      ],
      "source": [
        "CC_data.isnull().sum()"
      ]
    },
    {
      "cell_type": "code",
      "execution_count": 82,
      "metadata": {
        "colab": {
          "base_uri": "https://localhost:8080/"
        },
        "id": "Y5mZURZ9YVQF",
        "scrolled": false,
        "outputId": "764302c1-92fc-4a81-ecf1-0feeb66653b9"
      },
      "outputs": [
        {
          "output_type": "stream",
          "name": "stdout",
          "text": [
            "shape of the data: (690, 16)\n"
          ]
        }
      ],
      "source": [
        "print(\"shape of the data:\", CC_data.shape)"
      ]
    },
    {
      "cell_type": "code",
      "execution_count": 83,
      "metadata": {
        "id": "f_z7ANxCYVQG"
      },
      "outputs": [],
      "source": [
        "def imputeWithMode(df):\n",
        "    \"\"\" \n",
        "    Going through each columns and checking the type is object\n",
        "    if it is object, impute it with most frequent value\n",
        "    \"\"\"\n",
        "    for col in df:\n",
        "        if df[col].dtypes == 'object':\n",
        "            df[col] = df[col].fillna(df[col].mode().iloc[0])\n",
        "imputeWithMode(CC_data)"
      ]
    },
    {
      "cell_type": "code",
      "execution_count": 84,
      "metadata": {
        "colab": {
          "base_uri": "https://localhost:8080/"
        },
        "id": "ZmCSpRv-YVQJ",
        "outputId": "f5b927a8-867e-4622-bb97-a7a359b55908"
      },
      "outputs": [
        {
          "output_type": "execute_result",
          "data": {
            "text/plain": [
              "Gender            0\n",
              "Age               0\n",
              "Debt              0\n",
              "Married           0\n",
              "BankCustomer      0\n",
              "EducationLevel    0\n",
              "Ethnicity         0\n",
              "YearsEmployed     0\n",
              "PriorDefault      0\n",
              "Employed          0\n",
              "CreditScore       0\n",
              "DriversLicense    0\n",
              "Citizen           0\n",
              "ZipCode           0\n",
              "Income            0\n",
              "ApprovalStatus    0\n",
              "dtype: int64"
            ]
          },
          "metadata": {},
          "execution_count": 84
        }
      ],
      "source": [
        "CC_data.isnull().sum()"
      ]
    },
    {
      "cell_type": "code",
      "execution_count": 85,
      "metadata": {
        "id": "DhtHDS2bYVQL"
      },
      "outputs": [],
      "source": [
        "from sklearn.preprocessing import LabelEncoder\n",
        "le = LabelEncoder()\n",
        "# # Looping for each object type column\n",
        "#Using label encoder to convert into numeric types\n",
        "for col in CC_data:\n",
        "    if CC_data[col].dtypes=='object':\n",
        "        CC_data[col]=le.fit_transform(CC_data[col])"
      ]
    },
    {
      "cell_type": "code",
      "execution_count": 86,
      "metadata": {
        "colab": {
          "base_uri": "https://localhost:8080/",
          "height": 564
        },
        "id": "qHh8wqH3e4ue",
        "outputId": "371e60e9-49da-4a22-98e1-b45a8dec2a8d"
      },
      "outputs": [
        {
          "output_type": "execute_result",
          "data": {
            "text/plain": [
              "    Gender    Age    Debt  Married  BankCustomer  EducationLevel  Ethnicity  \\\n",
              "0        1  30.83   0.000        1             0              12          7   \n",
              "1        0  58.67   4.460        1             0              10          3   \n",
              "2        0  24.50   0.500        1             0              10          3   \n",
              "3        1  27.83   1.540        1             0              12          7   \n",
              "4        1  20.17   5.625        1             0              12          7   \n",
              "5        1  32.08   4.000        1             0               9          7   \n",
              "6        1  33.17   1.040        1             0              11          3   \n",
              "7        0  22.92  11.585        1             0               2          7   \n",
              "8        1  54.42   0.500        2             2               8          3   \n",
              "9        1  42.50   4.915        2             2              12          7   \n",
              "10       1  22.08   0.830        1             0               1          3   \n",
              "11       1  29.92   1.835        1             0               1          3   \n",
              "12       0  38.25   6.000        1             0               8          7   \n",
              "13       1  48.08   6.040        1             0               8          7   \n",
              "14       0  45.83  10.500        1             0              10          7   \n",
              "\n",
              "    YearsEmployed  PriorDefault  Employed  CreditScore  DriversLicense  \\\n",
              "0           1.250             1         1            1               0   \n",
              "1           3.040             1         1            6               0   \n",
              "2           1.500             1         0            0               0   \n",
              "3           3.750             1         1            5               1   \n",
              "4           1.710             1         0            0               0   \n",
              "5           2.500             1         0            0               1   \n",
              "6           6.500             1         0            0               1   \n",
              "7           0.040             1         0            0               0   \n",
              "8           3.960             1         0            0               0   \n",
              "9           3.165             1         0            0               1   \n",
              "10          2.165             0         0            0               1   \n",
              "11          4.335             1         0            0               0   \n",
              "12          1.000             1         0            0               1   \n",
              "13          0.040             0         0            0               0   \n",
              "14          5.000             1         1            7               1   \n",
              "\n",
              "    Citizen  ZipCode  Income  ApprovalStatus  \n",
              "0         0       68       0               0  \n",
              "1         0       11     560               0  \n",
              "2         0       96     824               0  \n",
              "3         0       31       3               0  \n",
              "4         2       37       0               0  \n",
              "5         0      115       0               0  \n",
              "6         0       54   31285               0  \n",
              "7         0       23    1349               0  \n",
              "8         0       62     314               0  \n",
              "9         0       15    1442               0  \n",
              "10        0       39       0               0  \n",
              "11        0       90     200               0  \n",
              "12        0        0       0               0  \n",
              "13        0        0    2690               0  \n",
              "14        0        0       0               0  "
            ],
            "text/html": [
              "\n",
              "  <div id=\"df-77b0e43b-8023-4622-ad76-9667e9cb48ac\">\n",
              "    <div class=\"colab-df-container\">\n",
              "      <div>\n",
              "<style scoped>\n",
              "    .dataframe tbody tr th:only-of-type {\n",
              "        vertical-align: middle;\n",
              "    }\n",
              "\n",
              "    .dataframe tbody tr th {\n",
              "        vertical-align: top;\n",
              "    }\n",
              "\n",
              "    .dataframe thead th {\n",
              "        text-align: right;\n",
              "    }\n",
              "</style>\n",
              "<table border=\"1\" class=\"dataframe\">\n",
              "  <thead>\n",
              "    <tr style=\"text-align: right;\">\n",
              "      <th></th>\n",
              "      <th>Gender</th>\n",
              "      <th>Age</th>\n",
              "      <th>Debt</th>\n",
              "      <th>Married</th>\n",
              "      <th>BankCustomer</th>\n",
              "      <th>EducationLevel</th>\n",
              "      <th>Ethnicity</th>\n",
              "      <th>YearsEmployed</th>\n",
              "      <th>PriorDefault</th>\n",
              "      <th>Employed</th>\n",
              "      <th>CreditScore</th>\n",
              "      <th>DriversLicense</th>\n",
              "      <th>Citizen</th>\n",
              "      <th>ZipCode</th>\n",
              "      <th>Income</th>\n",
              "      <th>ApprovalStatus</th>\n",
              "    </tr>\n",
              "  </thead>\n",
              "  <tbody>\n",
              "    <tr>\n",
              "      <th>0</th>\n",
              "      <td>1</td>\n",
              "      <td>30.83</td>\n",
              "      <td>0.000</td>\n",
              "      <td>1</td>\n",
              "      <td>0</td>\n",
              "      <td>12</td>\n",
              "      <td>7</td>\n",
              "      <td>1.250</td>\n",
              "      <td>1</td>\n",
              "      <td>1</td>\n",
              "      <td>1</td>\n",
              "      <td>0</td>\n",
              "      <td>0</td>\n",
              "      <td>68</td>\n",
              "      <td>0</td>\n",
              "      <td>0</td>\n",
              "    </tr>\n",
              "    <tr>\n",
              "      <th>1</th>\n",
              "      <td>0</td>\n",
              "      <td>58.67</td>\n",
              "      <td>4.460</td>\n",
              "      <td>1</td>\n",
              "      <td>0</td>\n",
              "      <td>10</td>\n",
              "      <td>3</td>\n",
              "      <td>3.040</td>\n",
              "      <td>1</td>\n",
              "      <td>1</td>\n",
              "      <td>6</td>\n",
              "      <td>0</td>\n",
              "      <td>0</td>\n",
              "      <td>11</td>\n",
              "      <td>560</td>\n",
              "      <td>0</td>\n",
              "    </tr>\n",
              "    <tr>\n",
              "      <th>2</th>\n",
              "      <td>0</td>\n",
              "      <td>24.50</td>\n",
              "      <td>0.500</td>\n",
              "      <td>1</td>\n",
              "      <td>0</td>\n",
              "      <td>10</td>\n",
              "      <td>3</td>\n",
              "      <td>1.500</td>\n",
              "      <td>1</td>\n",
              "      <td>0</td>\n",
              "      <td>0</td>\n",
              "      <td>0</td>\n",
              "      <td>0</td>\n",
              "      <td>96</td>\n",
              "      <td>824</td>\n",
              "      <td>0</td>\n",
              "    </tr>\n",
              "    <tr>\n",
              "      <th>3</th>\n",
              "      <td>1</td>\n",
              "      <td>27.83</td>\n",
              "      <td>1.540</td>\n",
              "      <td>1</td>\n",
              "      <td>0</td>\n",
              "      <td>12</td>\n",
              "      <td>7</td>\n",
              "      <td>3.750</td>\n",
              "      <td>1</td>\n",
              "      <td>1</td>\n",
              "      <td>5</td>\n",
              "      <td>1</td>\n",
              "      <td>0</td>\n",
              "      <td>31</td>\n",
              "      <td>3</td>\n",
              "      <td>0</td>\n",
              "    </tr>\n",
              "    <tr>\n",
              "      <th>4</th>\n",
              "      <td>1</td>\n",
              "      <td>20.17</td>\n",
              "      <td>5.625</td>\n",
              "      <td>1</td>\n",
              "      <td>0</td>\n",
              "      <td>12</td>\n",
              "      <td>7</td>\n",
              "      <td>1.710</td>\n",
              "      <td>1</td>\n",
              "      <td>0</td>\n",
              "      <td>0</td>\n",
              "      <td>0</td>\n",
              "      <td>2</td>\n",
              "      <td>37</td>\n",
              "      <td>0</td>\n",
              "      <td>0</td>\n",
              "    </tr>\n",
              "    <tr>\n",
              "      <th>5</th>\n",
              "      <td>1</td>\n",
              "      <td>32.08</td>\n",
              "      <td>4.000</td>\n",
              "      <td>1</td>\n",
              "      <td>0</td>\n",
              "      <td>9</td>\n",
              "      <td>7</td>\n",
              "      <td>2.500</td>\n",
              "      <td>1</td>\n",
              "      <td>0</td>\n",
              "      <td>0</td>\n",
              "      <td>1</td>\n",
              "      <td>0</td>\n",
              "      <td>115</td>\n",
              "      <td>0</td>\n",
              "      <td>0</td>\n",
              "    </tr>\n",
              "    <tr>\n",
              "      <th>6</th>\n",
              "      <td>1</td>\n",
              "      <td>33.17</td>\n",
              "      <td>1.040</td>\n",
              "      <td>1</td>\n",
              "      <td>0</td>\n",
              "      <td>11</td>\n",
              "      <td>3</td>\n",
              "      <td>6.500</td>\n",
              "      <td>1</td>\n",
              "      <td>0</td>\n",
              "      <td>0</td>\n",
              "      <td>1</td>\n",
              "      <td>0</td>\n",
              "      <td>54</td>\n",
              "      <td>31285</td>\n",
              "      <td>0</td>\n",
              "    </tr>\n",
              "    <tr>\n",
              "      <th>7</th>\n",
              "      <td>0</td>\n",
              "      <td>22.92</td>\n",
              "      <td>11.585</td>\n",
              "      <td>1</td>\n",
              "      <td>0</td>\n",
              "      <td>2</td>\n",
              "      <td>7</td>\n",
              "      <td>0.040</td>\n",
              "      <td>1</td>\n",
              "      <td>0</td>\n",
              "      <td>0</td>\n",
              "      <td>0</td>\n",
              "      <td>0</td>\n",
              "      <td>23</td>\n",
              "      <td>1349</td>\n",
              "      <td>0</td>\n",
              "    </tr>\n",
              "    <tr>\n",
              "      <th>8</th>\n",
              "      <td>1</td>\n",
              "      <td>54.42</td>\n",
              "      <td>0.500</td>\n",
              "      <td>2</td>\n",
              "      <td>2</td>\n",
              "      <td>8</td>\n",
              "      <td>3</td>\n",
              "      <td>3.960</td>\n",
              "      <td>1</td>\n",
              "      <td>0</td>\n",
              "      <td>0</td>\n",
              "      <td>0</td>\n",
              "      <td>0</td>\n",
              "      <td>62</td>\n",
              "      <td>314</td>\n",
              "      <td>0</td>\n",
              "    </tr>\n",
              "    <tr>\n",
              "      <th>9</th>\n",
              "      <td>1</td>\n",
              "      <td>42.50</td>\n",
              "      <td>4.915</td>\n",
              "      <td>2</td>\n",
              "      <td>2</td>\n",
              "      <td>12</td>\n",
              "      <td>7</td>\n",
              "      <td>3.165</td>\n",
              "      <td>1</td>\n",
              "      <td>0</td>\n",
              "      <td>0</td>\n",
              "      <td>1</td>\n",
              "      <td>0</td>\n",
              "      <td>15</td>\n",
              "      <td>1442</td>\n",
              "      <td>0</td>\n",
              "    </tr>\n",
              "    <tr>\n",
              "      <th>10</th>\n",
              "      <td>1</td>\n",
              "      <td>22.08</td>\n",
              "      <td>0.830</td>\n",
              "      <td>1</td>\n",
              "      <td>0</td>\n",
              "      <td>1</td>\n",
              "      <td>3</td>\n",
              "      <td>2.165</td>\n",
              "      <td>0</td>\n",
              "      <td>0</td>\n",
              "      <td>0</td>\n",
              "      <td>1</td>\n",
              "      <td>0</td>\n",
              "      <td>39</td>\n",
              "      <td>0</td>\n",
              "      <td>0</td>\n",
              "    </tr>\n",
              "    <tr>\n",
              "      <th>11</th>\n",
              "      <td>1</td>\n",
              "      <td>29.92</td>\n",
              "      <td>1.835</td>\n",
              "      <td>1</td>\n",
              "      <td>0</td>\n",
              "      <td>1</td>\n",
              "      <td>3</td>\n",
              "      <td>4.335</td>\n",
              "      <td>1</td>\n",
              "      <td>0</td>\n",
              "      <td>0</td>\n",
              "      <td>0</td>\n",
              "      <td>0</td>\n",
              "      <td>90</td>\n",
              "      <td>200</td>\n",
              "      <td>0</td>\n",
              "    </tr>\n",
              "    <tr>\n",
              "      <th>12</th>\n",
              "      <td>0</td>\n",
              "      <td>38.25</td>\n",
              "      <td>6.000</td>\n",
              "      <td>1</td>\n",
              "      <td>0</td>\n",
              "      <td>8</td>\n",
              "      <td>7</td>\n",
              "      <td>1.000</td>\n",
              "      <td>1</td>\n",
              "      <td>0</td>\n",
              "      <td>0</td>\n",
              "      <td>1</td>\n",
              "      <td>0</td>\n",
              "      <td>0</td>\n",
              "      <td>0</td>\n",
              "      <td>0</td>\n",
              "    </tr>\n",
              "    <tr>\n",
              "      <th>13</th>\n",
              "      <td>1</td>\n",
              "      <td>48.08</td>\n",
              "      <td>6.040</td>\n",
              "      <td>1</td>\n",
              "      <td>0</td>\n",
              "      <td>8</td>\n",
              "      <td>7</td>\n",
              "      <td>0.040</td>\n",
              "      <td>0</td>\n",
              "      <td>0</td>\n",
              "      <td>0</td>\n",
              "      <td>0</td>\n",
              "      <td>0</td>\n",
              "      <td>0</td>\n",
              "      <td>2690</td>\n",
              "      <td>0</td>\n",
              "    </tr>\n",
              "    <tr>\n",
              "      <th>14</th>\n",
              "      <td>0</td>\n",
              "      <td>45.83</td>\n",
              "      <td>10.500</td>\n",
              "      <td>1</td>\n",
              "      <td>0</td>\n",
              "      <td>10</td>\n",
              "      <td>7</td>\n",
              "      <td>5.000</td>\n",
              "      <td>1</td>\n",
              "      <td>1</td>\n",
              "      <td>7</td>\n",
              "      <td>1</td>\n",
              "      <td>0</td>\n",
              "      <td>0</td>\n",
              "      <td>0</td>\n",
              "      <td>0</td>\n",
              "    </tr>\n",
              "  </tbody>\n",
              "</table>\n",
              "</div>\n",
              "      <button class=\"colab-df-convert\" onclick=\"convertToInteractive('df-77b0e43b-8023-4622-ad76-9667e9cb48ac')\"\n",
              "              title=\"Convert this dataframe to an interactive table.\"\n",
              "              style=\"display:none;\">\n",
              "        \n",
              "  <svg xmlns=\"http://www.w3.org/2000/svg\" height=\"24px\"viewBox=\"0 0 24 24\"\n",
              "       width=\"24px\">\n",
              "    <path d=\"M0 0h24v24H0V0z\" fill=\"none\"/>\n",
              "    <path d=\"M18.56 5.44l.94 2.06.94-2.06 2.06-.94-2.06-.94-.94-2.06-.94 2.06-2.06.94zm-11 1L8.5 8.5l.94-2.06 2.06-.94-2.06-.94L8.5 2.5l-.94 2.06-2.06.94zm10 10l.94 2.06.94-2.06 2.06-.94-2.06-.94-.94-2.06-.94 2.06-2.06.94z\"/><path d=\"M17.41 7.96l-1.37-1.37c-.4-.4-.92-.59-1.43-.59-.52 0-1.04.2-1.43.59L10.3 9.45l-7.72 7.72c-.78.78-.78 2.05 0 2.83L4 21.41c.39.39.9.59 1.41.59.51 0 1.02-.2 1.41-.59l7.78-7.78 2.81-2.81c.8-.78.8-2.07 0-2.86zM5.41 20L4 18.59l7.72-7.72 1.47 1.35L5.41 20z\"/>\n",
              "  </svg>\n",
              "      </button>\n",
              "      \n",
              "  <style>\n",
              "    .colab-df-container {\n",
              "      display:flex;\n",
              "      flex-wrap:wrap;\n",
              "      gap: 12px;\n",
              "    }\n",
              "\n",
              "    .colab-df-convert {\n",
              "      background-color: #E8F0FE;\n",
              "      border: none;\n",
              "      border-radius: 50%;\n",
              "      cursor: pointer;\n",
              "      display: none;\n",
              "      fill: #1967D2;\n",
              "      height: 32px;\n",
              "      padding: 0 0 0 0;\n",
              "      width: 32px;\n",
              "    }\n",
              "\n",
              "    .colab-df-convert:hover {\n",
              "      background-color: #E2EBFA;\n",
              "      box-shadow: 0px 1px 2px rgba(60, 64, 67, 0.3), 0px 1px 3px 1px rgba(60, 64, 67, 0.15);\n",
              "      fill: #174EA6;\n",
              "    }\n",
              "\n",
              "    [theme=dark] .colab-df-convert {\n",
              "      background-color: #3B4455;\n",
              "      fill: #D2E3FC;\n",
              "    }\n",
              "\n",
              "    [theme=dark] .colab-df-convert:hover {\n",
              "      background-color: #434B5C;\n",
              "      box-shadow: 0px 1px 3px 1px rgba(0, 0, 0, 0.15);\n",
              "      filter: drop-shadow(0px 1px 2px rgba(0, 0, 0, 0.3));\n",
              "      fill: #FFFFFF;\n",
              "    }\n",
              "  </style>\n",
              "\n",
              "      <script>\n",
              "        const buttonEl =\n",
              "          document.querySelector('#df-77b0e43b-8023-4622-ad76-9667e9cb48ac button.colab-df-convert');\n",
              "        buttonEl.style.display =\n",
              "          google.colab.kernel.accessAllowed ? 'block' : 'none';\n",
              "\n",
              "        async function convertToInteractive(key) {\n",
              "          const element = document.querySelector('#df-77b0e43b-8023-4622-ad76-9667e9cb48ac');\n",
              "          const dataTable =\n",
              "            await google.colab.kernel.invokeFunction('convertToInteractive',\n",
              "                                                     [key], {});\n",
              "          if (!dataTable) return;\n",
              "\n",
              "          const docLinkHtml = 'Like what you see? Visit the ' +\n",
              "            '<a target=\"_blank\" href=https://colab.research.google.com/notebooks/data_table.ipynb>data table notebook</a>'\n",
              "            + ' to learn more about interactive tables.';\n",
              "          element.innerHTML = '';\n",
              "          dataTable['output_type'] = 'display_data';\n",
              "          await google.colab.output.renderOutput(dataTable, element);\n",
              "          const docLink = document.createElement('div');\n",
              "          docLink.innerHTML = docLinkHtml;\n",
              "          element.appendChild(docLink);\n",
              "        }\n",
              "      </script>\n",
              "    </div>\n",
              "  </div>\n",
              "  "
            ]
          },
          "metadata": {},
          "execution_count": 86
        }
      ],
      "source": [
        "CC_data.head(15)"
      ]
    },
    {
      "cell_type": "code",
      "execution_count": 87,
      "metadata": {
        "colab": {
          "base_uri": "https://localhost:8080/",
          "height": 584
        },
        "id": "dnDdgwbmYVQN",
        "outputId": "5e62c08a-0b36-453c-9b7b-616a361c04bf"
      },
      "outputs": [
        {
          "output_type": "execute_result",
          "data": {
            "text/plain": [
              "     Gender    Age    Debt  Married  BankCustomer  EducationLevel  Ethnicity  \\\n",
              "675       0  41.58   1.040        1             0               0          7   \n",
              "676       0  30.58  10.665        1             0              10          3   \n",
              "677       1  19.42   7.250        1             0               9          7   \n",
              "678       0  17.92  10.210        1             0               5          2   \n",
              "679       0  20.08   1.250        1             0               1          7   \n",
              "680       1  19.50   0.290        1             0               8          7   \n",
              "681       1  27.83   1.000        2             2               3          3   \n",
              "682       1  17.08   3.290        1             0               6          7   \n",
              "683       1  36.42   0.750        2             2               3          7   \n",
              "684       1  40.58   3.290        1             0               9          7   \n",
              "685       1  21.08  10.085        2             2               4          3   \n",
              "686       0  22.67   0.750        1             0               1          7   \n",
              "687       0  25.25  13.500        2             2               5          2   \n",
              "688       1  17.92   0.205        1             0               0          7   \n",
              "689       1  35.00   3.375        1             0               1          3   \n",
              "\n",
              "     YearsEmployed  PriorDefault  Employed  CreditScore  DriversLicense  \\\n",
              "675          0.665             0         0            0               0   \n",
              "676          0.085             0         1           12               1   \n",
              "677          0.040             0         1            1               0   \n",
              "678          0.000             0         0            0               0   \n",
              "679          0.000             0         0            0               0   \n",
              "680          0.290             0         0            0               0   \n",
              "681          3.000             0         0            0               0   \n",
              "682          0.335             0         0            0               1   \n",
              "683          0.585             0         0            0               0   \n",
              "684          3.500             0         0            0               1   \n",
              "685          1.250             0         0            0               0   \n",
              "686          2.000             0         1            2               1   \n",
              "687          2.000             0         1            1               1   \n",
              "688          0.040             0         0            0               0   \n",
              "689          8.290             0         0            0               1   \n",
              "\n",
              "     Citizen  ZipCode  Income  ApprovalStatus  \n",
              "675        0       84     237               1  \n",
              "676        0       40       3               1  \n",
              "677        0       31       1               1  \n",
              "678        0        0      50               1  \n",
              "679        0        0       0               1  \n",
              "680        0       96     364               1  \n",
              "681        0       60     537               1  \n",
              "682        0       44       2               1  \n",
              "683        0       84       3               1  \n",
              "684        2      129       0               1  \n",
              "685        0       90       0               1  \n",
              "686        0       67     394               1  \n",
              "687        0       67       1               1  \n",
              "688        0       96     750               1  \n",
              "689        0        0       0               1  "
            ],
            "text/html": [
              "\n",
              "  <div id=\"df-64857f39-03b2-4add-b65f-2c2e6ccc21c7\">\n",
              "    <div class=\"colab-df-container\">\n",
              "      <div>\n",
              "<style scoped>\n",
              "    .dataframe tbody tr th:only-of-type {\n",
              "        vertical-align: middle;\n",
              "    }\n",
              "\n",
              "    .dataframe tbody tr th {\n",
              "        vertical-align: top;\n",
              "    }\n",
              "\n",
              "    .dataframe thead th {\n",
              "        text-align: right;\n",
              "    }\n",
              "</style>\n",
              "<table border=\"1\" class=\"dataframe\">\n",
              "  <thead>\n",
              "    <tr style=\"text-align: right;\">\n",
              "      <th></th>\n",
              "      <th>Gender</th>\n",
              "      <th>Age</th>\n",
              "      <th>Debt</th>\n",
              "      <th>Married</th>\n",
              "      <th>BankCustomer</th>\n",
              "      <th>EducationLevel</th>\n",
              "      <th>Ethnicity</th>\n",
              "      <th>YearsEmployed</th>\n",
              "      <th>PriorDefault</th>\n",
              "      <th>Employed</th>\n",
              "      <th>CreditScore</th>\n",
              "      <th>DriversLicense</th>\n",
              "      <th>Citizen</th>\n",
              "      <th>ZipCode</th>\n",
              "      <th>Income</th>\n",
              "      <th>ApprovalStatus</th>\n",
              "    </tr>\n",
              "  </thead>\n",
              "  <tbody>\n",
              "    <tr>\n",
              "      <th>675</th>\n",
              "      <td>0</td>\n",
              "      <td>41.58</td>\n",
              "      <td>1.040</td>\n",
              "      <td>1</td>\n",
              "      <td>0</td>\n",
              "      <td>0</td>\n",
              "      <td>7</td>\n",
              "      <td>0.665</td>\n",
              "      <td>0</td>\n",
              "      <td>0</td>\n",
              "      <td>0</td>\n",
              "      <td>0</td>\n",
              "      <td>0</td>\n",
              "      <td>84</td>\n",
              "      <td>237</td>\n",
              "      <td>1</td>\n",
              "    </tr>\n",
              "    <tr>\n",
              "      <th>676</th>\n",
              "      <td>0</td>\n",
              "      <td>30.58</td>\n",
              "      <td>10.665</td>\n",
              "      <td>1</td>\n",
              "      <td>0</td>\n",
              "      <td>10</td>\n",
              "      <td>3</td>\n",
              "      <td>0.085</td>\n",
              "      <td>0</td>\n",
              "      <td>1</td>\n",
              "      <td>12</td>\n",
              "      <td>1</td>\n",
              "      <td>0</td>\n",
              "      <td>40</td>\n",
              "      <td>3</td>\n",
              "      <td>1</td>\n",
              "    </tr>\n",
              "    <tr>\n",
              "      <th>677</th>\n",
              "      <td>1</td>\n",
              "      <td>19.42</td>\n",
              "      <td>7.250</td>\n",
              "      <td>1</td>\n",
              "      <td>0</td>\n",
              "      <td>9</td>\n",
              "      <td>7</td>\n",
              "      <td>0.040</td>\n",
              "      <td>0</td>\n",
              "      <td>1</td>\n",
              "      <td>1</td>\n",
              "      <td>0</td>\n",
              "      <td>0</td>\n",
              "      <td>31</td>\n",
              "      <td>1</td>\n",
              "      <td>1</td>\n",
              "    </tr>\n",
              "    <tr>\n",
              "      <th>678</th>\n",
              "      <td>0</td>\n",
              "      <td>17.92</td>\n",
              "      <td>10.210</td>\n",
              "      <td>1</td>\n",
              "      <td>0</td>\n",
              "      <td>5</td>\n",
              "      <td>2</td>\n",
              "      <td>0.000</td>\n",
              "      <td>0</td>\n",
              "      <td>0</td>\n",
              "      <td>0</td>\n",
              "      <td>0</td>\n",
              "      <td>0</td>\n",
              "      <td>0</td>\n",
              "      <td>50</td>\n",
              "      <td>1</td>\n",
              "    </tr>\n",
              "    <tr>\n",
              "      <th>679</th>\n",
              "      <td>0</td>\n",
              "      <td>20.08</td>\n",
              "      <td>1.250</td>\n",
              "      <td>1</td>\n",
              "      <td>0</td>\n",
              "      <td>1</td>\n",
              "      <td>7</td>\n",
              "      <td>0.000</td>\n",
              "      <td>0</td>\n",
              "      <td>0</td>\n",
              "      <td>0</td>\n",
              "      <td>0</td>\n",
              "      <td>0</td>\n",
              "      <td>0</td>\n",
              "      <td>0</td>\n",
              "      <td>1</td>\n",
              "    </tr>\n",
              "    <tr>\n",
              "      <th>680</th>\n",
              "      <td>1</td>\n",
              "      <td>19.50</td>\n",
              "      <td>0.290</td>\n",
              "      <td>1</td>\n",
              "      <td>0</td>\n",
              "      <td>8</td>\n",
              "      <td>7</td>\n",
              "      <td>0.290</td>\n",
              "      <td>0</td>\n",
              "      <td>0</td>\n",
              "      <td>0</td>\n",
              "      <td>0</td>\n",
              "      <td>0</td>\n",
              "      <td>96</td>\n",
              "      <td>364</td>\n",
              "      <td>1</td>\n",
              "    </tr>\n",
              "    <tr>\n",
              "      <th>681</th>\n",
              "      <td>1</td>\n",
              "      <td>27.83</td>\n",
              "      <td>1.000</td>\n",
              "      <td>2</td>\n",
              "      <td>2</td>\n",
              "      <td>3</td>\n",
              "      <td>3</td>\n",
              "      <td>3.000</td>\n",
              "      <td>0</td>\n",
              "      <td>0</td>\n",
              "      <td>0</td>\n",
              "      <td>0</td>\n",
              "      <td>0</td>\n",
              "      <td>60</td>\n",
              "      <td>537</td>\n",
              "      <td>1</td>\n",
              "    </tr>\n",
              "    <tr>\n",
              "      <th>682</th>\n",
              "      <td>1</td>\n",
              "      <td>17.08</td>\n",
              "      <td>3.290</td>\n",
              "      <td>1</td>\n",
              "      <td>0</td>\n",
              "      <td>6</td>\n",
              "      <td>7</td>\n",
              "      <td>0.335</td>\n",
              "      <td>0</td>\n",
              "      <td>0</td>\n",
              "      <td>0</td>\n",
              "      <td>1</td>\n",
              "      <td>0</td>\n",
              "      <td>44</td>\n",
              "      <td>2</td>\n",
              "      <td>1</td>\n",
              "    </tr>\n",
              "    <tr>\n",
              "      <th>683</th>\n",
              "      <td>1</td>\n",
              "      <td>36.42</td>\n",
              "      <td>0.750</td>\n",
              "      <td>2</td>\n",
              "      <td>2</td>\n",
              "      <td>3</td>\n",
              "      <td>7</td>\n",
              "      <td>0.585</td>\n",
              "      <td>0</td>\n",
              "      <td>0</td>\n",
              "      <td>0</td>\n",
              "      <td>0</td>\n",
              "      <td>0</td>\n",
              "      <td>84</td>\n",
              "      <td>3</td>\n",
              "      <td>1</td>\n",
              "    </tr>\n",
              "    <tr>\n",
              "      <th>684</th>\n",
              "      <td>1</td>\n",
              "      <td>40.58</td>\n",
              "      <td>3.290</td>\n",
              "      <td>1</td>\n",
              "      <td>0</td>\n",
              "      <td>9</td>\n",
              "      <td>7</td>\n",
              "      <td>3.500</td>\n",
              "      <td>0</td>\n",
              "      <td>0</td>\n",
              "      <td>0</td>\n",
              "      <td>1</td>\n",
              "      <td>2</td>\n",
              "      <td>129</td>\n",
              "      <td>0</td>\n",
              "      <td>1</td>\n",
              "    </tr>\n",
              "    <tr>\n",
              "      <th>685</th>\n",
              "      <td>1</td>\n",
              "      <td>21.08</td>\n",
              "      <td>10.085</td>\n",
              "      <td>2</td>\n",
              "      <td>2</td>\n",
              "      <td>4</td>\n",
              "      <td>3</td>\n",
              "      <td>1.250</td>\n",
              "      <td>0</td>\n",
              "      <td>0</td>\n",
              "      <td>0</td>\n",
              "      <td>0</td>\n",
              "      <td>0</td>\n",
              "      <td>90</td>\n",
              "      <td>0</td>\n",
              "      <td>1</td>\n",
              "    </tr>\n",
              "    <tr>\n",
              "      <th>686</th>\n",
              "      <td>0</td>\n",
              "      <td>22.67</td>\n",
              "      <td>0.750</td>\n",
              "      <td>1</td>\n",
              "      <td>0</td>\n",
              "      <td>1</td>\n",
              "      <td>7</td>\n",
              "      <td>2.000</td>\n",
              "      <td>0</td>\n",
              "      <td>1</td>\n",
              "      <td>2</td>\n",
              "      <td>1</td>\n",
              "      <td>0</td>\n",
              "      <td>67</td>\n",
              "      <td>394</td>\n",
              "      <td>1</td>\n",
              "    </tr>\n",
              "    <tr>\n",
              "      <th>687</th>\n",
              "      <td>0</td>\n",
              "      <td>25.25</td>\n",
              "      <td>13.500</td>\n",
              "      <td>2</td>\n",
              "      <td>2</td>\n",
              "      <td>5</td>\n",
              "      <td>2</td>\n",
              "      <td>2.000</td>\n",
              "      <td>0</td>\n",
              "      <td>1</td>\n",
              "      <td>1</td>\n",
              "      <td>1</td>\n",
              "      <td>0</td>\n",
              "      <td>67</td>\n",
              "      <td>1</td>\n",
              "      <td>1</td>\n",
              "    </tr>\n",
              "    <tr>\n",
              "      <th>688</th>\n",
              "      <td>1</td>\n",
              "      <td>17.92</td>\n",
              "      <td>0.205</td>\n",
              "      <td>1</td>\n",
              "      <td>0</td>\n",
              "      <td>0</td>\n",
              "      <td>7</td>\n",
              "      <td>0.040</td>\n",
              "      <td>0</td>\n",
              "      <td>0</td>\n",
              "      <td>0</td>\n",
              "      <td>0</td>\n",
              "      <td>0</td>\n",
              "      <td>96</td>\n",
              "      <td>750</td>\n",
              "      <td>1</td>\n",
              "    </tr>\n",
              "    <tr>\n",
              "      <th>689</th>\n",
              "      <td>1</td>\n",
              "      <td>35.00</td>\n",
              "      <td>3.375</td>\n",
              "      <td>1</td>\n",
              "      <td>0</td>\n",
              "      <td>1</td>\n",
              "      <td>3</td>\n",
              "      <td>8.290</td>\n",
              "      <td>0</td>\n",
              "      <td>0</td>\n",
              "      <td>0</td>\n",
              "      <td>1</td>\n",
              "      <td>0</td>\n",
              "      <td>0</td>\n",
              "      <td>0</td>\n",
              "      <td>1</td>\n",
              "    </tr>\n",
              "  </tbody>\n",
              "</table>\n",
              "</div>\n",
              "      <button class=\"colab-df-convert\" onclick=\"convertToInteractive('df-64857f39-03b2-4add-b65f-2c2e6ccc21c7')\"\n",
              "              title=\"Convert this dataframe to an interactive table.\"\n",
              "              style=\"display:none;\">\n",
              "        \n",
              "  <svg xmlns=\"http://www.w3.org/2000/svg\" height=\"24px\"viewBox=\"0 0 24 24\"\n",
              "       width=\"24px\">\n",
              "    <path d=\"M0 0h24v24H0V0z\" fill=\"none\"/>\n",
              "    <path d=\"M18.56 5.44l.94 2.06.94-2.06 2.06-.94-2.06-.94-.94-2.06-.94 2.06-2.06.94zm-11 1L8.5 8.5l.94-2.06 2.06-.94-2.06-.94L8.5 2.5l-.94 2.06-2.06.94zm10 10l.94 2.06.94-2.06 2.06-.94-2.06-.94-.94-2.06-.94 2.06-2.06.94z\"/><path d=\"M17.41 7.96l-1.37-1.37c-.4-.4-.92-.59-1.43-.59-.52 0-1.04.2-1.43.59L10.3 9.45l-7.72 7.72c-.78.78-.78 2.05 0 2.83L4 21.41c.39.39.9.59 1.41.59.51 0 1.02-.2 1.41-.59l7.78-7.78 2.81-2.81c.8-.78.8-2.07 0-2.86zM5.41 20L4 18.59l7.72-7.72 1.47 1.35L5.41 20z\"/>\n",
              "  </svg>\n",
              "      </button>\n",
              "      \n",
              "  <style>\n",
              "    .colab-df-container {\n",
              "      display:flex;\n",
              "      flex-wrap:wrap;\n",
              "      gap: 12px;\n",
              "    }\n",
              "\n",
              "    .colab-df-convert {\n",
              "      background-color: #E8F0FE;\n",
              "      border: none;\n",
              "      border-radius: 50%;\n",
              "      cursor: pointer;\n",
              "      display: none;\n",
              "      fill: #1967D2;\n",
              "      height: 32px;\n",
              "      padding: 0 0 0 0;\n",
              "      width: 32px;\n",
              "    }\n",
              "\n",
              "    .colab-df-convert:hover {\n",
              "      background-color: #E2EBFA;\n",
              "      box-shadow: 0px 1px 2px rgba(60, 64, 67, 0.3), 0px 1px 3px 1px rgba(60, 64, 67, 0.15);\n",
              "      fill: #174EA6;\n",
              "    }\n",
              "\n",
              "    [theme=dark] .colab-df-convert {\n",
              "      background-color: #3B4455;\n",
              "      fill: #D2E3FC;\n",
              "    }\n",
              "\n",
              "    [theme=dark] .colab-df-convert:hover {\n",
              "      background-color: #434B5C;\n",
              "      box-shadow: 0px 1px 3px 1px rgba(0, 0, 0, 0.15);\n",
              "      filter: drop-shadow(0px 1px 2px rgba(0, 0, 0, 0.3));\n",
              "      fill: #FFFFFF;\n",
              "    }\n",
              "  </style>\n",
              "\n",
              "      <script>\n",
              "        const buttonEl =\n",
              "          document.querySelector('#df-64857f39-03b2-4add-b65f-2c2e6ccc21c7 button.colab-df-convert');\n",
              "        buttonEl.style.display =\n",
              "          google.colab.kernel.accessAllowed ? 'block' : 'none';\n",
              "\n",
              "        async function convertToInteractive(key) {\n",
              "          const element = document.querySelector('#df-64857f39-03b2-4add-b65f-2c2e6ccc21c7');\n",
              "          const dataTable =\n",
              "            await google.colab.kernel.invokeFunction('convertToInteractive',\n",
              "                                                     [key], {});\n",
              "          if (!dataTable) return;\n",
              "\n",
              "          const docLinkHtml = 'Like what you see? Visit the ' +\n",
              "            '<a target=\"_blank\" href=https://colab.research.google.com/notebooks/data_table.ipynb>data table notebook</a>'\n",
              "            + ' to learn more about interactive tables.';\n",
              "          element.innerHTML = '';\n",
              "          dataTable['output_type'] = 'display_data';\n",
              "          await google.colab.output.renderOutput(dataTable, element);\n",
              "          const docLink = document.createElement('div');\n",
              "          docLink.innerHTML = docLinkHtml;\n",
              "          element.appendChild(docLink);\n",
              "        }\n",
              "      </script>\n",
              "    </div>\n",
              "  </div>\n",
              "  "
            ]
          },
          "metadata": {},
          "execution_count": 87
        }
      ],
      "source": [
        "CC_data.tail(15)"
      ]
    },
    {
      "cell_type": "markdown",
      "metadata": {
        "id": "4S3fxyyMYVQT"
      },
      "source": [
        "## 4. Data Modeling and Evaluation"
      ]
    },
    {
      "cell_type": "code",
      "execution_count": 88,
      "metadata": {
        "id": "sgY8bdObYVQb"
      },
      "outputs": [],
      "source": [
        "from sklearn.model_selection import train_test_split\n",
        "# Removing the feature which are not important and converting to NumPy array\n",
        "CC_data = CC_data.drop(['DriversLicense', 'ZipCode'], axis=1)\n",
        "CC_data = CC_data.values"
      ]
    },
    {
      "cell_type": "markdown",
      "metadata": {
        "id": "QfAfHyQpYsSv"
      },
      "source": [
        "# **Spliting the data into training and testing sets**"
      ]
    },
    {
      "cell_type": "code",
      "execution_count": 89,
      "metadata": {
        "id": "ah_8YlOTYVQe"
      },
      "outputs": [],
      "source": [
        "# Creating new variable to input features and labels\n",
        "X,y = CC_data[:,0:13] , CC_data[:,13]\n",
        "\n",
        "# Spliting the data into training and testing sets\n",
        "X_train, X_test, y_train, Y_test = train_test_split(X,\n",
        "                                y,\n",
        "                                test_size=0.3,\n",
        "                                random_state=123)"
      ]
    },
    {
      "cell_type": "code",
      "execution_count": 90,
      "metadata": {
        "id": "2FfsOU7HYVRK"
      },
      "outputs": [],
      "source": [
        "# Import MinMaxScaler\n",
        "from sklearn.preprocessing import MinMaxScaler\n",
        "\n",
        "# Scaling X_train and X_test\n",
        "scaler = MinMaxScaler(feature_range=(0, 1))\n",
        "rescaledX_train = scaler.fit_transform(X_train)\n",
        "rescaledX_test = scaler.transform(X_test)"
      ]
    },
    {
      "cell_type": "code",
      "execution_count": 91,
      "metadata": {
        "id": "131J1HE1YVRL"
      },
      "outputs": [],
      "source": [
        "rescaledX = scaler.transform(X)"
      ]
    },
    {
      "cell_type": "code",
      "source": [
        "accuracies = dict()"
      ],
      "metadata": {
        "id": "91-kQoJd8eBd"
      },
      "execution_count": 92,
      "outputs": []
    },
    {
      "cell_type": "markdown",
      "metadata": {
        "id": "NHZqW8eoYwiV"
      },
      "source": [
        "# **Random Forest Classifier**"
      ]
    },
    {
      "cell_type": "code",
      "execution_count": 93,
      "metadata": {
        "colab": {
          "base_uri": "https://localhost:8080/",
          "height": 323
        },
        "id": "0T4_bwcYYVRM",
        "outputId": "3bc5b615-a660-493b-86df-76dfeed1bc34"
      },
      "outputs": [
        {
          "output_type": "stream",
          "name": "stdout",
          "text": [
            "Random Forest Classification Accuracy is: 0.8985507246376812\n"
          ]
        },
        {
          "output_type": "display_data",
          "data": {
            "text/plain": [
              "<Figure size 432x288 with 2 Axes>"
            ],
            "image/png": "[encoded data removed]"
          },
          "metadata": {}
        }
      ],
      "source": [
        "#****************RANDOM FOREST CLASSIFIER*************************\n",
        "from sklearn.ensemble import RandomForestClassifier\n",
        "\n",
        "classifier = RandomForestClassifier(n_estimators= 500, random_state= 0)\n",
        "classifier.fit(rescaledX_train, y_train)\n",
        "\n",
        "#Make Prediction\n",
        "y_pred = classifier.predict(rescaledX_test)\n",
        "\n",
        "from sklearn.metrics import accuracy_score\n",
        "\n",
        "accuracies['Random FOREST Classification'] = accuracy_score(Y_test, y_pred)\n",
        "print('Random Forest Classification Accuracy is: ' + str(accuracy_score(Y_test, y_pred)))\n",
        "\n",
        "#CONFUSION MATRIX\n",
        "from sklearn.metrics import plot_confusion_matrix\n",
        "\n",
        "disp = plot_confusion_matrix(classifier, X_test, Y_test, display_labels= ['Approved', 'Not Approved'], cmap = plt.cm.PuRd, normalize= 'true')\n",
        "plt.title(\"Normalized Confusion Matrix of Credit Cards Approval Dataset\")\n",
        "plt.show()"
      ]
    },
    {
      "cell_type": "code",
      "execution_count": 94,
      "metadata": {
        "colab": {
          "base_uri": "https://localhost:8080/"
        },
        "id": "Wwn5cO4Vr3pK",
        "outputId": "cd2e0bab-3d66-4b40-8140-fc18ba591c2f"
      },
      "outputs": [
        {
          "output_type": "stream",
          "name": "stdout",
          "text": [
            "              precision    recall  f1-score   support\n",
            "\n",
            "         0.0       0.94      0.84      0.89        98\n",
            "         1.0       0.87      0.95      0.91       109\n",
            "\n",
            "    accuracy                           0.90       207\n",
            "   macro avg       0.90      0.90      0.90       207\n",
            "weighted avg       0.90      0.90      0.90       207\n",
            "\n"
          ]
        }
      ],
      "source": [
        "#Accuracy,Precission,Recall,F-1 Score\n",
        "print(classification_report(Y_test,y_pred))"
      ]
    },
    {
      "cell_type": "markdown",
      "metadata": {
        "id": "T_AwV-V3YVRQ"
      },
      "source": [
        "According to the Random Forest Classifier, PriorDefault is the most important feature, followed by Credit Score and Employment status."
      ]
    },
    {
      "cell_type": "code",
      "execution_count": 95,
      "metadata": {
        "colab": {
          "base_uri": "https://localhost:8080/",
          "height": 530
        },
        "id": "2u8MaeF_YVRS",
        "outputId": "3a1f97cd-18d4-4032-f679-1febcd939089"
      },
      "outputs": [
        {
          "output_type": "stream",
          "name": "stdout",
          "text": [
            "Feature ranking:\n",
            "1. feature 8 (0.288031)\n",
            "2. feature 2 (0.106878)\n",
            "3. feature 12 (0.106456)\n",
            "4. feature 7 (0.105091)\n",
            "5. feature 10 (0.099212)\n",
            "6. feature 1 (0.089727)\n",
            "7. feature 5 (0.065237)\n",
            "8. feature 9 (0.056431)\n",
            "9. feature 6 (0.030880)\n",
            "10. feature 0 (0.016061)\n",
            "11. feature 3 (0.012645)\n",
            "12. feature 11 (0.011887)\n",
            "13. feature 4 (0.011464)\n"
          ]
        },
        {
          "output_type": "display_data",
          "data": {
            "text/plain": [
              "<Figure size 432x288 with 1 Axes>"
            ],
            "image/png": "[encoded data removed]"
          },
          "metadata": {}
        }
      ],
      "source": [
        "importances = classifier.feature_importances_\n",
        "std = np.std([tree.feature_importances_ for tree in classifier.estimators_],\n",
        "             axis=0)\n",
        "indices = np.argsort(importances)[::-1]\n",
        "\n",
        "# Print the feature ranking\n",
        "print(\"Feature ranking:\")\n",
        "\n",
        "for f in range(X.shape[1]):\n",
        "    print(\"%d. feature %d (%f)\" % (f + 1, indices[f], importances[indices[f]]))\n",
        "\n",
        "# Plot the feature importances of the forest\n",
        "plt.figure()\n",
        "plt.title(\"Feature importances\")\n",
        "plt.bar(range(X.shape[1]), importances[indices],\n",
        "       color=\"r\", yerr=std[indices], align=\"center\")\n",
        "plt.xticks(range(X.shape[1]), indices)\n",
        "plt.xlim([-1, X.shape[1]])\n",
        "plt.show()"
      ]
    },
    {
      "cell_type": "markdown",
      "metadata": {
        "id": "hinlSHTsYVRW"
      },
      "source": [
        "## Which attribute has played most important role in credit card request decision?"
      ]
    },
    {
      "cell_type": "code",
      "execution_count": 96,
      "metadata": {
        "colab": {
          "base_uri": "https://localhost:8080/",
          "height": 306
        },
        "id": "vQH9b2pnYVRX",
        "outputId": "c5cf1206-06bc-4c5b-fce9-f63388debe78"
      },
      "outputs": [
        {
          "output_type": "display_data",
          "data": {
            "text/plain": [
              "<Figure size 432x288 with 1 Axes>"
            ],
            "image/png": "[encoded data removed]"
          },
          "metadata": {}
        }
      ],
      "source": [
        "# copy of CC_data is in CC_data2\n",
        "CC_data2 = CC_data2.drop(['ApprovalStatus'], axis=1)\n",
        "\n",
        "features = CC_data2.columns\n",
        "importances = classifier.feature_importances_\n",
        "indices = np.argsort(importances)\n",
        "\n",
        "plt.title('Feature Importances')\n",
        "plt.barh(range(len(indices)), importances[indices], color='b', align='center')\n",
        "plt.yticks(range(len(indices)), [features[i] for i in indices])\n",
        "plt.xlabel('Relative Importance')\n",
        "plt.show()"
      ]
    },
    {
      "cell_type": "markdown",
      "metadata": {
        "id": "X42e6dRyY289"
      },
      "source": [
        "# **Logistic Regression**"
      ]
    },
    {
      "cell_type": "code",
      "source": [
        "#****************LOGISTIC REGRESSON*************************\n",
        "from sklearn.linear_model import LogisticRegression\n",
        "\n",
        "lr = LogisticRegression(random_state = 0)\n",
        "lr.fit(X_train, y_train)\n",
        "\n",
        "#Make Prediction\n",
        "y_pred = lr.predict(rescaledX_test)\n",
        "\n",
        "from sklearn.metrics import accuracy_score\n",
        "\n",
        "accuracies['Logistic Regression'] = accuracy_score(Y_test, y_pred)\n",
        "print('Logistic Regression Accuracy is: ' + str(accuracy_score(Y_test, y_pred)))\n",
        "\n",
        "#confusion matrix\n",
        "\n",
        "from sklearn.metrics import plot_confusion_matrix\n",
        "\n",
        "plot_confusion_matrix(lr, rescaledX_test, Y_test,display_labels=['Approved', 'Not Approved'],cmap= plt.cm.PuRd, normalize= 'true')\n",
        "plt.title(\"Normalized Confusion Matrix of Credit Cards Approval Dataset\")\n",
        "plt.show()"
      ],
      "metadata": {
        "id": "sTh5kmXS8Vpg",
        "colab": {
          "base_uri": "https://localhost:8080/",
          "height": 323
        },
        "outputId": "dba8cdc9-264c-4146-e93d-4676d8101ce6"
      },
      "execution_count": 97,
      "outputs": [
        {
          "output_type": "stream",
          "name": "stdout",
          "text": [
            "Logistic Regression Accuracy is: 0.893719806763285\n"
          ]
        },
        {
          "output_type": "display_data",
          "data": {
            "text/plain": [
              "<Figure size 432x288 with 2 Axes>"
            ],
            "image/png": "[encoded data removed]"
          },
          "metadata": {}
        }
      ]
    },
    {
      "cell_type": "code",
      "execution_count": 98,
      "metadata": {
        "colab": {
          "base_uri": "https://localhost:8080/"
        },
        "id": "B-cfmlUZr6LD",
        "outputId": "1fac2d85-e7e5-4941-e161-69123aad14e3"
      },
      "outputs": [
        {
          "output_type": "stream",
          "name": "stdout",
          "text": [
            "              precision    recall  f1-score   support\n",
            "\n",
            "         0.0       0.89      0.89      0.89        98\n",
            "         1.0       0.90      0.90      0.90       109\n",
            "\n",
            "    accuracy                           0.89       207\n",
            "   macro avg       0.89      0.89      0.89       207\n",
            "weighted avg       0.89      0.89      0.89       207\n",
            "\n"
          ]
        }
      ],
      "source": [
        "#Accuracy,Precission,Recall,F-1 Score\n",
        "print(classification_report(Y_test,y_pred))"
      ]
    },
    {
      "cell_type": "code",
      "execution_count": 99,
      "metadata": {
        "id": "T36WFtRIYVRf"
      },
      "outputs": [],
      "source": [
        "# Import GridSearchCV\n",
        "from sklearn.model_selection import GridSearchCV\n",
        "\n",
        "# Define the grid of values for tol and max_iter\n",
        "tol = [0.01, 0.001, 0.0001]\n",
        "max_iter = [100, 150, 200]\n",
        "\n",
        "# Create a dictionary\n",
        "param_grid = dict(tol=tol, max_iter=max_iter)"
      ]
    },
    {
      "cell_type": "code",
      "execution_count": 100,
      "metadata": {
        "colab": {
          "base_uri": "https://localhost:8080/"
        },
        "id": "KcsdBCc6YVRh",
        "outputId": "a114435b-9b92-4564-e2b1-a9740b205bd3"
      },
      "outputs": [
        {
          "output_type": "stream",
          "name": "stdout",
          "text": [
            "Best: 0.850725 using {'max_iter': 100, 'tol': 0.01}\n"
          ]
        }
      ],
      "source": [
        "# Initializing GridSearchCV\n",
        "grid_model = GridSearchCV(estimator=LogisticRegression(), param_grid=param_grid, cv=5)\n",
        "\n",
        "# Rescaling the entire data set with all the predictive features\n",
        "rescaledX = scaler.fit_transform(X)\n",
        "\n",
        "# Calculating and summarizing the final results\n",
        "grid_model_result = grid_model.fit(rescaledX, y)\n",
        "best_score, best_params = grid_model_result.best_score_, grid_model_result.best_params_ \n",
        "print(\"Best: %f using %s\" %  (best_score, best_params))"
      ]
    },
    {
      "cell_type": "markdown",
      "metadata": {
        "id": "kFLHpZ_Rs7L5"
      },
      "source": [
        "# **SVM**"
      ]
    },
    {
      "cell_type": "code",
      "execution_count": 101,
      "metadata": {
        "colab": {
          "base_uri": "https://localhost:8080/",
          "height": 323
        },
        "id": "lAfsVuLQs-eT",
        "outputId": "147e52cb-0b83-4814-cad3-6087bcdc7d73"
      },
      "outputs": [
        {
          "output_type": "stream",
          "name": "stdout",
          "text": [
            "Kernel SVM Accuracy is: 0.8985507246376812\n"
          ]
        },
        {
          "output_type": "display_data",
          "data": {
            "text/plain": [
              "<Figure size 432x288 with 2 Axes>"
            ],
            "image/png": "[encoded data removed]"
          },
          "metadata": {}
        }
      ],
      "source": [
        "#****************KERNEL SVM*************************\n",
        "from sklearn.svm import SVC\n",
        "\n",
        "classifier = SVC(kernel = 'rbf', random_state = 0)\n",
        "classifier.fit(rescaledX_train, y_train)\n",
        "\n",
        "#Make Prediction\n",
        "y_pred = classifier.predict(rescaledX_test)\n",
        "\n",
        "from sklearn.metrics import accuracy_score\n",
        "\n",
        "accuracies['Kernel SVM'] = accuracy_score(Y_test, y_pred)\n",
        "print('Kernel SVM Accuracy is: ' + str(accuracy_score(Y_test, y_pred)))\n",
        "#CONFUSION MATRIX\n",
        "from sklearn.metrics import plot_confusion_matrix\n",
        "\n",
        "disp = plot_confusion_matrix(classifier, X_test, Y_test, display_labels= ['Approved', 'Not Approved'], cmap = plt.cm.PuRd, normalize= 'true')\n",
        "plt.title(\"Normalized Confusion Matrix of Credit Cards Approval Dataset\")\n",
        "plt.show()"
      ]
    },
    {
      "cell_type": "code",
      "execution_count": 102,
      "metadata": {
        "colab": {
          "base_uri": "https://localhost:8080/"
        },
        "id": "egvzboBBtf83",
        "outputId": "f768b260-5a36-4950-ddef-addc29c5296e"
      },
      "outputs": [
        {
          "output_type": "stream",
          "name": "stdout",
          "text": [
            "              precision    recall  f1-score   support\n",
            "\n",
            "         0.0       0.90      0.89      0.89        98\n",
            "         1.0       0.90      0.91      0.90       109\n",
            "\n",
            "    accuracy                           0.90       207\n",
            "   macro avg       0.90      0.90      0.90       207\n",
            "weighted avg       0.90      0.90      0.90       207\n",
            "\n"
          ]
        }
      ],
      "source": [
        "#Accuracy,Precission,Recall,F-1 Score\n",
        "print(classification_report(Y_test,y_pred))"
      ]
    },
    {
      "cell_type": "markdown",
      "metadata": {
        "id": "5ak1_3loy2Xi"
      },
      "source": [
        "# **Artificial Neural Network (ANN) Classifier**"
      ]
    },
    {
      "cell_type": "code",
      "execution_count": 103,
      "metadata": {
        "id": "7yVLCosxYVRi"
      },
      "outputs": [],
      "source": [
        "#****************Artificial Neural Network (ANN) *************************\n",
        "\n",
        "#importing required libraries -- Neural network module\n",
        "from keras.models import Sequential \n",
        "from keras.layers import Dense,Activation,Dropout \n",
        "from keras.layers import BatchNormalization \n",
        "from keras.utils import np_utils\n",
        "from yellowbrick.model_selection import learning_curve\n",
        "import os\n",
        "import tensorflow as tf\n",
        "os.environ['TF_CPP_MIN_LOG_LEVEL'] = '3'"
      ]
    },
    {
      "cell_type": "code",
      "execution_count": 104,
      "metadata": {
        "id": "wUANk5VgeW7o"
      },
      "outputs": [],
      "source": [
        "#Initialising ANN\n",
        "ANNclassifier = Sequential()"
      ]
    },
    {
      "cell_type": "code",
      "execution_count": 105,
      "metadata": {
        "id": "7tZGLmQUeXEl"
      },
      "outputs": [],
      "source": [
        "#Adding Input layer and 1st Hidden Layer\n",
        "ANNclassifier.add(Dense(units=7,activation=\"relu\"))"
      ]
    },
    {
      "cell_type": "code",
      "execution_count": 106,
      "metadata": {
        "id": "hWFjUa_UeXQG"
      },
      "outputs": [],
      "source": [
        "#Adding 2nd hidden layer\n",
        "ANNclassifier.add(Dense(units=7,activation=\"relu\"))"
      ]
    },
    {
      "cell_type": "code",
      "execution_count": 107,
      "metadata": {
        "id": "jPvPJYKIzQ_D"
      },
      "outputs": [],
      "source": [
        "#Adding Output Layer\n",
        "ANNclassifier.add(Dense(units=1,activation=\"sigmoid\"))"
      ]
    },
    {
      "cell_type": "code",
      "execution_count": 108,
      "metadata": {
        "id": "uAuYrRtVzRJN"
      },
      "outputs": [],
      "source": [
        "#Compiling ANN\n",
        "ANNclassifier.compile(optimizer=\"adam\",loss=\"binary_crossentropy\",metrics=['accuracy'])"
      ]
    },
    {
      "cell_type": "code",
      "execution_count": 126,
      "metadata": {
        "colab": {
          "base_uri": "https://localhost:8080/"
        },
        "id": "YN7BGtNtzRTs",
        "outputId": "29975540-ac30-4b8f-e970-b0f4f269ea9f"
      },
      "outputs": [
        {
          "output_type": "stream",
          "name": "stdout",
          "text": [
            "Epoch 1/40\n",
            "49/49 [==============================] - 0s 4ms/step - loss: 0.2677 - accuracy: 0.8944 - val_loss: 0.3528 - val_accuracy: 0.8986\n",
            "Epoch 2/40\n",
            "49/49 [==============================] - 0s 3ms/step - loss: 0.2657 - accuracy: 0.8965 - val_loss: 0.3442 - val_accuracy: 0.9034\n",
            "Epoch 3/40\n",
            "49/49 [==============================] - 0s 2ms/step - loss: 0.2657 - accuracy: 0.8820 - val_loss: 0.3522 - val_accuracy: 0.8986\n",
            "Epoch 4/40\n",
            "49/49 [==============================] - 0s 3ms/step - loss: 0.2673 - accuracy: 0.8923 - val_loss: 0.3480 - val_accuracy: 0.9034\n",
            "Epoch 5/40\n",
            "49/49 [==============================] - 0s 2ms/step - loss: 0.2656 - accuracy: 0.8986 - val_loss: 0.3422 - val_accuracy: 0.8986\n",
            "Epoch 6/40\n",
            "49/49 [==============================] - 0s 3ms/step - loss: 0.2646 - accuracy: 0.8923 - val_loss: 0.3524 - val_accuracy: 0.8986\n",
            "Epoch 7/40\n",
            "49/49 [==============================] - 0s 4ms/step - loss: 0.2657 - accuracy: 0.8965 - val_loss: 0.3386 - val_accuracy: 0.8986\n",
            "Epoch 8/40\n",
            "49/49 [==============================] - 0s 4ms/step - loss: 0.2641 - accuracy: 0.8923 - val_loss: 0.3430 - val_accuracy: 0.8986\n",
            "Epoch 9/40\n",
            "49/49 [==============================] - 0s 2ms/step - loss: 0.2632 - accuracy: 0.8923 - val_loss: 0.3396 - val_accuracy: 0.8937\n",
            "Epoch 10/40\n",
            "49/49 [==============================] - 0s 3ms/step - loss: 0.2658 - accuracy: 0.8944 - val_loss: 0.3451 - val_accuracy: 0.9034\n",
            "Epoch 11/40\n",
            "49/49 [==============================] - 0s 3ms/step - loss: 0.2633 - accuracy: 0.8944 - val_loss: 0.3406 - val_accuracy: 0.8986\n",
            "Epoch 12/40\n",
            "49/49 [==============================] - 0s 2ms/step - loss: 0.2652 - accuracy: 0.8903 - val_loss: 0.3382 - val_accuracy: 0.8937\n",
            "Epoch 13/40\n",
            "49/49 [==============================] - 0s 3ms/step - loss: 0.2629 - accuracy: 0.8965 - val_loss: 0.3496 - val_accuracy: 0.8986\n",
            "Epoch 14/40\n",
            "49/49 [==============================] - 0s 3ms/step - loss: 0.2641 - accuracy: 0.8965 - val_loss: 0.3456 - val_accuracy: 0.9034\n",
            "Epoch 15/40\n",
            "49/49 [==============================] - 0s 3ms/step - loss: 0.2649 - accuracy: 0.8923 - val_loss: 0.3480 - val_accuracy: 0.9034\n",
            "Epoch 16/40\n",
            "49/49 [==============================] - 0s 3ms/step - loss: 0.2645 - accuracy: 0.8903 - val_loss: 0.3527 - val_accuracy: 0.9034\n",
            "Epoch 17/40\n",
            "49/49 [==============================] - 0s 3ms/step - loss: 0.2629 - accuracy: 0.8965 - val_loss: 0.3479 - val_accuracy: 0.8986\n",
            "Epoch 18/40\n",
            "49/49 [==============================] - 0s 4ms/step - loss: 0.2637 - accuracy: 0.8923 - val_loss: 0.3498 - val_accuracy: 0.9034\n",
            "Epoch 19/40\n",
            "49/49 [==============================] - 0s 2ms/step - loss: 0.2624 - accuracy: 0.8923 - val_loss: 0.3485 - val_accuracy: 0.9034\n",
            "Epoch 20/40\n",
            "49/49 [==============================] - 0s 2ms/step - loss: 0.2630 - accuracy: 0.8986 - val_loss: 0.3513 - val_accuracy: 0.9034\n",
            "Epoch 21/40\n",
            "49/49 [==============================] - 0s 3ms/step - loss: 0.2617 - accuracy: 0.8944 - val_loss: 0.3483 - val_accuracy: 0.9034\n",
            "Epoch 22/40\n",
            "49/49 [==============================] - 0s 3ms/step - loss: 0.2607 - accuracy: 0.9006 - val_loss: 0.3418 - val_accuracy: 0.8986\n",
            "Epoch 23/40\n",
            "49/49 [==============================] - 0s 2ms/step - loss: 0.2614 - accuracy: 0.8944 - val_loss: 0.3440 - val_accuracy: 0.9034\n",
            "Epoch 24/40\n",
            "49/49 [==============================] - 0s 3ms/step - loss: 0.2619 - accuracy: 0.8986 - val_loss: 0.3372 - val_accuracy: 0.8937\n",
            "Epoch 25/40\n",
            "49/49 [==============================] - 0s 3ms/step - loss: 0.2628 - accuracy: 0.8903 - val_loss: 0.3456 - val_accuracy: 0.9034\n",
            "Epoch 26/40\n",
            "49/49 [==============================] - 0s 3ms/step - loss: 0.2616 - accuracy: 0.8944 - val_loss: 0.3496 - val_accuracy: 0.9034\n",
            "Epoch 27/40\n",
            "49/49 [==============================] - 0s 3ms/step - loss: 0.2602 - accuracy: 0.8923 - val_loss: 0.3503 - val_accuracy: 0.9034\n",
            "Epoch 28/40\n",
            "49/49 [==============================] - 0s 3ms/step - loss: 0.2607 - accuracy: 0.8965 - val_loss: 0.3457 - val_accuracy: 0.8986\n",
            "Epoch 29/40\n",
            "49/49 [==============================] - 0s 3ms/step - loss: 0.2612 - accuracy: 0.8944 - val_loss: 0.3451 - val_accuracy: 0.8986\n",
            "Epoch 30/40\n",
            "49/49 [==============================] - 0s 3ms/step - loss: 0.2603 - accuracy: 0.8986 - val_loss: 0.3506 - val_accuracy: 0.9034\n",
            "Epoch 31/40\n",
            "49/49 [==============================] - 0s 3ms/step - loss: 0.2625 - accuracy: 0.8965 - val_loss: 0.3464 - val_accuracy: 0.8986\n",
            "Epoch 32/40\n",
            "49/49 [==============================] - 0s 3ms/step - loss: 0.2598 - accuracy: 0.8944 - val_loss: 0.3474 - val_accuracy: 0.8986\n",
            "Epoch 33/40\n",
            "49/49 [==============================] - 0s 3ms/step - loss: 0.2598 - accuracy: 0.8944 - val_loss: 0.3522 - val_accuracy: 0.9034\n",
            "Epoch 34/40\n",
            "49/49 [==============================] - 0s 3ms/step - loss: 0.2603 - accuracy: 0.8965 - val_loss: 0.3482 - val_accuracy: 0.8986\n",
            "Epoch 35/40\n",
            "49/49 [==============================] - 0s 3ms/step - loss: 0.2594 - accuracy: 0.8944 - val_loss: 0.3520 - val_accuracy: 0.9034\n",
            "Epoch 36/40\n",
            "49/49 [==============================] - 0s 3ms/step - loss: 0.2613 - accuracy: 0.8923 - val_loss: 0.3504 - val_accuracy: 0.8986\n",
            "Epoch 37/40\n",
            "49/49 [==============================] - 0s 3ms/step - loss: 0.2597 - accuracy: 0.8923 - val_loss: 0.3485 - val_accuracy: 0.9034\n",
            "Epoch 38/40\n",
            "49/49 [==============================] - 0s 2ms/step - loss: 0.2611 - accuracy: 0.8965 - val_loss: 0.3478 - val_accuracy: 0.8986\n",
            "Epoch 39/40\n",
            "49/49 [==============================] - 0s 2ms/step - loss: 0.2612 - accuracy: 0.8923 - val_loss: 0.3574 - val_accuracy: 0.9034\n",
            "Epoch 40/40\n",
            "49/49 [==============================] - 0s 3ms/step - loss: 0.2596 - accuracy: 0.9006 - val_loss: 0.3574 - val_accuracy: 0.9034\n"
          ]
        }
      ],
      "source": [
        "#Fitting ANN\n",
        "result=ANNclassifier.fit(rescaledX_train, y_train, validation_data=(rescaledX_test,Y_test),batch_size = 10, epochs = 40, verbose = 1)"
      ]
    },
    {
      "cell_type": "code",
      "source": [
        "_, train_acc = ANNclassifier.evaluate(rescaledX_train, y_train, verbose=1)\n",
        "_, test_acc = ANNclassifier.evaluate(rescaledX_test, Y_test, verbose=1)\n",
        "print(\"Artificial Neural Network (ANN) classifier has accuracy of: \")\n",
        "print('Train Accuracy : %.3f, Test Accuracy : %.3f' % (train_acc, test_acc))\n",
        "accuracies['ANN'] = test_acc"
      ],
      "metadata": {
        "colab": {
          "base_uri": "https://localhost:8080/"
        },
        "id": "77iUk1WDnvup",
        "outputId": "a4362a56-af20-4039-b496-ab644d07c239"
      },
      "execution_count": 127,
      "outputs": [
        {
          "output_type": "stream",
          "name": "stdout",
          "text": [
            "16/16 [==============================] - 0s 2ms/step - loss: 0.2561 - accuracy: 0.9027\n",
            "7/7 [==============================] - 0s 2ms/step - loss: 0.3574 - accuracy: 0.9034\n",
            "Artificial Neural Network (ANN) classifier has accuracy of: \n",
            "Train Accuracy : 0.903, Test Accuracy : 0.903\n"
          ]
        }
      ]
    },
    {
      "cell_type": "code",
      "execution_count": 111,
      "metadata": {
        "colab": {
          "base_uri": "https://localhost:8080/",
          "height": 434
        },
        "id": "WgOUPMLgaSxX",
        "outputId": "4afa164f-4d61-4e6c-8f0f-c187ccf30112"
      },
      "outputs": [
        {
          "output_type": "execute_result",
          "data": {
            "text/plain": [
              "<matplotlib.legend.Legend at 0x7fd63e860190>"
            ]
          },
          "metadata": {},
          "execution_count": 111
        },
        {
          "output_type": "display_data",
          "data": {
            "text/plain": [
              "<Figure size 1008x432 with 2 Axes>"
            ],
            "image/png": "[encoded data removed]"
          },
          "metadata": {}
        }
      ],
      "source": [
        "# Import ML Libaries \n",
        "import keras #library for neural network\n",
        "from sklearn.preprocessing import normalize #machine learning algorithm library\n",
        "from sklearn.model_selection import learning_curve\n",
        "import matplotlib.pyplot as plt\n",
        " \n",
        "history_dict = result.history\n",
        "loss_values = history_dict['loss']\n",
        "val_loss_values = history_dict['val_loss']\n",
        "accuracy = history_dict['accuracy']\n",
        "val_accuracy = history_dict['val_accuracy']\n",
        " \n",
        "epochs = range(1, len(loss_values) + 1)\n",
        "fig, ax = plt.subplots(1, 2, figsize=(14, 6))\n",
        "#\n",
        "# Plot the model accuracy vs Epochs\n",
        "#\n",
        "ax[0].plot(epochs, accuracy, 'bo', label='Training accuracy')\n",
        "ax[0].plot(epochs, val_accuracy, 'b', label='Validation accuracy')\n",
        "ax[0].set_title('Training & Validation Accuracy', fontsize=16)\n",
        "ax[0].set_xlabel('Epochs', fontsize=16)\n",
        "ax[0].set_ylabel('Accuracy', fontsize=16)\n",
        "ax[0].legend()\n",
        "#\n",
        "# Plot the loss vs Epochs\n",
        "#\n",
        "ax[1].plot(epochs, loss_values, 'bo', label='Training loss')\n",
        "ax[1].plot(epochs, val_loss_values, 'b', label='Validation loss')\n",
        "ax[1].set_title('Training & Validation Loss', fontsize=16)\n",
        "ax[1].set_xlabel('Epochs', fontsize=16)\n",
        "ax[1].set_ylabel('Loss', fontsize=16)\n",
        "ax[1].legend()"
      ]
    },
    {
      "cell_type": "markdown",
      "metadata": {
        "id": "_E0YI4QoMPt_"
      },
      "source": [
        "## **Comparing machine learning algorithms**"
      ]
    },
    {
      "cell_type": "markdown",
      "metadata": {
        "id": "mBUv4O6IMPt_"
      },
      "source": [
        "#### In this section, We will be comparing the performance of different machine learning algorithms on how well each one fits to the training data and prediction with test data. The scoring metric for comparison here is 'accuracy'"
      ]
    },
    {
      "cell_type": "code",
      "execution_count": 112,
      "metadata": {
        "id": "5u4IZZrZMPt_"
      },
      "outputs": [],
      "source": [
        "# import algorithms\n",
        "from sklearn import model_selection\n",
        "from sklearn.linear_model import LogisticRegression\n",
        "from sklearn.svm import SVC\n",
        "from sklearn.neighbors import KNeighborsClassifier\n",
        "from sklearn.naive_bayes import GaussianNB\n",
        "from sklearn.tree import DecisionTreeClassifier\n",
        "from sklearn.ensemble import RandomForestClassifier, AdaBoostClassifier\n",
        "from keras.models import Sequential "
      ]
    },
    {
      "cell_type": "code",
      "execution_count": 113,
      "metadata": {
        "colab": {
          "base_uri": "https://localhost:8080/"
        },
        "id": "hB7lpYWJMPt_",
        "outputId": "4b3d10bb-462c-4aa4-835b-5870b23c7bda"
      },
      "outputs": [
        {
          "output_type": "stream",
          "name": "stdout",
          "text": [
            "Logistic Regression : : mean = 0.8752380952380951; std = 0.07058389453551321\n",
            "Random Forest : : mean = 0.8607142857142858; std = 0.08594050834767437\n",
            "Linear SVM : : mean = 0.8800000000000001; std = 0.07425518298103159\n",
            "RBF SVM : : mean = 0.8702380952380953; std = 0.07628899879975146\n"
          ]
        }
      ],
      "source": [
        "# prepare models\n",
        "models = []\n",
        "models.append(('Logistic Regression : ', LogisticRegression()))\n",
        "models.append(('Random Forest : ', RandomForestClassifier(n_estimators = 500)))\n",
        "models.append(('Linear SVM : ', SVC(kernel = 'linear', C = 0.025)))\n",
        "models.append(('RBF SVM : ', SVC()))\n",
        "\n",
        "# prepare configuration for cross validation test harness\n",
        "\n",
        "# evaluate each model in turn \n",
        "results = []\n",
        "names = []\n",
        "scoring = 'accuracy'\n",
        "for name, model in models:\n",
        "    kfold = model_selection.KFold(n_splits=10, random_state = None)\n",
        "    cv_results = model_selection.cross_val_score(estimator = model, X = rescaledX_test, y=Y_test, cv = kfold, scoring = scoring)\n",
        "    results.append(cv_results)\n",
        "    names.append(name)\n",
        "    message = \"{}: mean = {}; std = {}\".format(name, cv_results.mean(), cv_results.std())\n",
        "    print(message)  "
      ]
    },
    {
      "cell_type": "code",
      "execution_count": 128,
      "metadata": {
        "colab": {
          "base_uri": "https://localhost:8080/",
          "height": 175
        },
        "id": "PGOVLAJvMPt_",
        "outputId": "e6252fe2-10f4-4812-bb2b-763e044c82ae"
      },
      "outputs": [
        {
          "output_type": "execute_result",
          "data": {
            "text/plain": [
              "               Model Name  Accuracy Score\n",
              "0  Logistic Regression :         0.875238\n",
              "1        Random Forest :         0.860714\n",
              "2           Linear SVM :         0.880000\n",
              "3              RBF SVM :         0.870238"
            ],
            "text/html": [
              "\n",
              "  <div id=\"df-41899c84-c8a8-4d48-9f63-a06c2d10490f\">\n",
              "    <div class=\"colab-df-container\">\n",
              "      <div>\n",
              "<style scoped>\n",
              "    .dataframe tbody tr th:only-of-type {\n",
              "        vertical-align: middle;\n",
              "    }\n",
              "\n",
              "    .dataframe tbody tr th {\n",
              "        vertical-align: top;\n",
              "    }\n",
              "\n",
              "    .dataframe thead th {\n",
              "        text-align: right;\n",
              "    }\n",
              "</style>\n",
              "<table border=\"1\" class=\"dataframe\">\n",
              "  <thead>\n",
              "    <tr style=\"text-align: right;\">\n",
              "      <th></th>\n",
              "      <th>Model Name</th>\n",
              "      <th>Accuracy Score</th>\n",
              "    </tr>\n",
              "  </thead>\n",
              "  <tbody>\n",
              "    <tr>\n",
              "      <th>0</th>\n",
              "      <td>Logistic Regression :</td>\n",
              "      <td>0.875238</td>\n",
              "    </tr>\n",
              "    <tr>\n",
              "      <th>1</th>\n",
              "      <td>Random Forest :</td>\n",
              "      <td>0.860714</td>\n",
              "    </tr>\n",
              "    <tr>\n",
              "      <th>2</th>\n",
              "      <td>Linear SVM :</td>\n",
              "      <td>0.880000</td>\n",
              "    </tr>\n",
              "    <tr>\n",
              "      <th>3</th>\n",
              "      <td>RBF SVM :</td>\n",
              "      <td>0.870238</td>\n",
              "    </tr>\n",
              "  </tbody>\n",
              "</table>\n",
              "</div>\n",
              "      <button class=\"colab-df-convert\" onclick=\"convertToInteractive('df-41899c84-c8a8-4d48-9f63-a06c2d10490f')\"\n",
              "              title=\"Convert this dataframe to an interactive table.\"\n",
              "              style=\"display:none;\">\n",
              "        \n",
              "  <svg xmlns=\"http://www.w3.org/2000/svg\" height=\"24px\"viewBox=\"0 0 24 24\"\n",
              "       width=\"24px\">\n",
              "    <path d=\"M0 0h24v24H0V0z\" fill=\"none\"/>\n",
              "    <path d=\"M18.56 5.44l.94 2.06.94-2.06 2.06-.94-2.06-.94-.94-2.06-.94 2.06-2.06.94zm-11 1L8.5 8.5l.94-2.06 2.06-.94-2.06-.94L8.5 2.5l-.94 2.06-2.06.94zm10 10l.94 2.06.94-2.06 2.06-.94-2.06-.94-.94-2.06-.94 2.06-2.06.94z\"/><path d=\"M17.41 7.96l-1.37-1.37c-.4-.4-.92-.59-1.43-.59-.52 0-1.04.2-1.43.59L10.3 9.45l-7.72 7.72c-.78.78-.78 2.05 0 2.83L4 21.41c.39.39.9.59 1.41.59.51 0 1.02-.2 1.41-.59l7.78-7.78 2.81-2.81c.8-.78.8-2.07 0-2.86zM5.41 20L4 18.59l7.72-7.72 1.47 1.35L5.41 20z\"/>\n",
              "  </svg>\n",
              "      </button>\n",
              "      \n",
              "  <style>\n",
              "    .colab-df-container {\n",
              "      display:flex;\n",
              "      flex-wrap:wrap;\n",
              "      gap: 12px;\n",
              "    }\n",
              "\n",
              "    .colab-df-convert {\n",
              "      background-color: #E8F0FE;\n",
              "      border: none;\n",
              "      border-radius: 50%;\n",
              "      cursor: pointer;\n",
              "      display: none;\n",
              "      fill: #1967D2;\n",
              "      height: 32px;\n",
              "      padding: 0 0 0 0;\n",
              "      width: 32px;\n",
              "    }\n",
              "\n",
              "    .colab-df-convert:hover {\n",
              "      background-color: #E2EBFA;\n",
              "      box-shadow: 0px 1px 2px rgba(60, 64, 67, 0.3), 0px 1px 3px 1px rgba(60, 64, 67, 0.15);\n",
              "      fill: #174EA6;\n",
              "    }\n",
              "\n",
              "    [theme=dark] .colab-df-convert {\n",
              "      background-color: #3B4455;\n",
              "      fill: #D2E3FC;\n",
              "    }\n",
              "\n",
              "    [theme=dark] .colab-df-convert:hover {\n",
              "      background-color: #434B5C;\n",
              "      box-shadow: 0px 1px 3px 1px rgba(0, 0, 0, 0.15);\n",
              "      filter: drop-shadow(0px 1px 2px rgba(0, 0, 0, 0.3));\n",
              "      fill: #FFFFFF;\n",
              "    }\n",
              "  </style>\n",
              "\n",
              "      <script>\n",
              "        const buttonEl =\n",
              "          document.querySelector('#df-41899c84-c8a8-4d48-9f63-a06c2d10490f button.colab-df-convert');\n",
              "        buttonEl.style.display =\n",
              "          google.colab.kernel.accessAllowed ? 'block' : 'none';\n",
              "\n",
              "        async function convertToInteractive(key) {\n",
              "          const element = document.querySelector('#df-41899c84-c8a8-4d48-9f63-a06c2d10490f');\n",
              "          const dataTable =\n",
              "            await google.colab.kernel.invokeFunction('convertToInteractive',\n",
              "                                                     [key], {});\n",
              "          if (!dataTable) return;\n",
              "\n",
              "          const docLinkHtml = 'Like what you see? Visit the ' +\n",
              "            '<a target=\"_blank\" href=https://colab.research.google.com/notebooks/data_table.ipynb>data table notebook</a>'\n",
              "            + ' to learn more about interactive tables.';\n",
              "          element.innerHTML = '';\n",
              "          dataTable['output_type'] = 'display_data';\n",
              "          await google.colab.output.renderOutput(dataTable, element);\n",
              "          const docLink = document.createElement('div');\n",
              "          docLink.innerHTML = docLinkHtml;\n",
              "          element.appendChild(docLink);\n",
              "        }\n",
              "      </script>\n",
              "    </div>\n",
              "  </div>\n",
              "  "
            ]
          },
          "metadata": {},
          "execution_count": 128
        }
      ],
      "source": [
        "model_df = pd.DataFrame()\n",
        "model_df['Model Name'] = names\n",
        "model_df['Accuracy Score'] = np.mean(results, axis = 1)\n",
        "model_df"
      ]
    },
    {
      "cell_type": "code",
      "execution_count": 115,
      "metadata": {
        "colab": {
          "base_uri": "https://localhost:8080/",
          "height": 566
        },
        "id": "OUoiFbpOMPuA",
        "outputId": "6c81a555-591a-467b-c87d-1a29be5f91c3"
      },
      "outputs": [
        {
          "output_type": "display_data",
          "data": {
            "text/plain": [
              "<Figure size 1296x648 with 1 Axes>"
            ],
            "image/png": "[encoded data removed]"
          },
          "metadata": {}
        }
      ],
      "source": [
        "plt.figure(figsize = (18, 9))\n",
        "ax = sns.boxplot(data=results)\n",
        "ax.set_xticklabels(names, size = 12)\n",
        "plt.title('Machine learning Algorithm comparison', size = 18)\n",
        "plt.savefig('machine_learning_comparison.png')\n",
        "plt.show()"
      ]
    },
    {
      "cell_type": "markdown",
      "metadata": {
        "id": "i7ClyN2WMPuA"
      },
      "source": [
        "#### From the figure above, we achieved the highest mean accuracy (86.97%) with Linear SVM algorithm. "
      ]
    },
    {
      "cell_type": "code",
      "execution_count": 116,
      "metadata": {
        "colab": {
          "base_uri": "https://localhost:8080/"
        },
        "id": "H0u4ZbTCMPuA",
        "outputId": "e5bc3099-2f03-4a77-c91d-df07d24ca5ab"
      },
      "outputs": [
        {
          "output_type": "execute_result",
          "data": {
            "text/plain": [
              "[('Logistic Regression : ', LogisticRegression()),\n",
              " ('Random Forest : ', RandomForestClassifier(n_estimators=500)),\n",
              " ('Linear SVM : ', SVC(C=0.025, kernel='linear')),\n",
              " ('RBF SVM : ', SVC())]"
            ]
          },
          "metadata": {},
          "execution_count": 116
        }
      ],
      "source": [
        "### Get most important feature responsible for determining which applicants get credit card or not. \n",
        "models"
      ]
    },
    {
      "cell_type": "code",
      "source": [
        "#RESULTS\n",
        "accuracy_df  = pd.DataFrame(list(accuracies.items()),columns = ['Model Name', 'Accuracy Score']) \n",
        "accuracy_df"
      ],
      "metadata": {
        "id": "V72JsWMz-apY",
        "colab": {
          "base_uri": "https://localhost:8080/",
          "height": 175
        },
        "outputId": "b6879eca-1d2c-451f-cb66-743bf8f3c7ab"
      },
      "execution_count": 129,
      "outputs": [
        {
          "output_type": "execute_result",
          "data": {
            "text/plain": [
              "                     Model Name  Accuracy Score\n",
              "0  Random FOREST Classification        0.898551\n",
              "1           Logistic Regression        0.893720\n",
              "2                    Kernel SVM        0.898551\n",
              "3                           ANN        0.903382"
            ],
            "text/html": [
              "\n",
              "  <div id=\"df-c75311c7-3058-4931-a596-e1dc7b711a09\">\n",
              "    <div class=\"colab-df-container\">\n",
              "      <div>\n",
              "<style scoped>\n",
              "    .dataframe tbody tr th:only-of-type {\n",
              "        vertical-align: middle;\n",
              "    }\n",
              "\n",
              "    .dataframe tbody tr th {\n",
              "        vertical-align: top;\n",
              "    }\n",
              "\n",
              "    .dataframe thead th {\n",
              "        text-align: right;\n",
              "    }\n",
              "</style>\n",
              "<table border=\"1\" class=\"dataframe\">\n",
              "  <thead>\n",
              "    <tr style=\"text-align: right;\">\n",
              "      <th></th>\n",
              "      <th>Model Name</th>\n",
              "      <th>Accuracy Score</th>\n",
              "    </tr>\n",
              "  </thead>\n",
              "  <tbody>\n",
              "    <tr>\n",
              "      <th>0</th>\n",
              "      <td>Random FOREST Classification</td>\n",
              "      <td>0.898551</td>\n",
              "    </tr>\n",
              "    <tr>\n",
              "      <th>1</th>\n",
              "      <td>Logistic Regression</td>\n",
              "      <td>0.893720</td>\n",
              "    </tr>\n",
              "    <tr>\n",
              "      <th>2</th>\n",
              "      <td>Kernel SVM</td>\n",
              "      <td>0.898551</td>\n",
              "    </tr>\n",
              "    <tr>\n",
              "      <th>3</th>\n",
              "      <td>ANN</td>\n",
              "      <td>0.903382</td>\n",
              "    </tr>\n",
              "  </tbody>\n",
              "</table>\n",
              "</div>\n",
              "      <button class=\"colab-df-convert\" onclick=\"convertToInteractive('df-c75311c7-3058-4931-a596-e1dc7b711a09')\"\n",
              "              title=\"Convert this dataframe to an interactive table.\"\n",
              "              style=\"display:none;\">\n",
              "        \n",
              "  <svg xmlns=\"http://www.w3.org/2000/svg\" height=\"24px\"viewBox=\"0 0 24 24\"\n",
              "       width=\"24px\">\n",
              "    <path d=\"M0 0h24v24H0V0z\" fill=\"none\"/>\n",
              "    <path d=\"M18.56 5.44l.94 2.06.94-2.06 2.06-.94-2.06-.94-.94-2.06-.94 2.06-2.06.94zm-11 1L8.5 8.5l.94-2.06 2.06-.94-2.06-.94L8.5 2.5l-.94 2.06-2.06.94zm10 10l.94 2.06.94-2.06 2.06-.94-2.06-.94-.94-2.06-.94 2.06-2.06.94z\"/><path d=\"M17.41 7.96l-1.37-1.37c-.4-.4-.92-.59-1.43-.59-.52 0-1.04.2-1.43.59L10.3 9.45l-7.72 7.72c-.78.78-.78 2.05 0 2.83L4 21.41c.39.39.9.59 1.41.59.51 0 1.02-.2 1.41-.59l7.78-7.78 2.81-2.81c.8-.78.8-2.07 0-2.86zM5.41 20L4 18.59l7.72-7.72 1.47 1.35L5.41 20z\"/>\n",
              "  </svg>\n",
              "      </button>\n",
              "      \n",
              "  <style>\n",
              "    .colab-df-container {\n",
              "      display:flex;\n",
              "      flex-wrap:wrap;\n",
              "      gap: 12px;\n",
              "    }\n",
              "\n",
              "    .colab-df-convert {\n",
              "      background-color: #E8F0FE;\n",
              "      border: none;\n",
              "      border-radius: 50%;\n",
              "      cursor: pointer;\n",
              "      display: none;\n",
              "      fill: #1967D2;\n",
              "      height: 32px;\n",
              "      padding: 0 0 0 0;\n",
              "      width: 32px;\n",
              "    }\n",
              "\n",
              "    .colab-df-convert:hover {\n",
              "      background-color: #E2EBFA;\n",
              "      box-shadow: 0px 1px 2px rgba(60, 64, 67, 0.3), 0px 1px 3px 1px rgba(60, 64, 67, 0.15);\n",
              "      fill: #174EA6;\n",
              "    }\n",
              "\n",
              "    [theme=dark] .colab-df-convert {\n",
              "      background-color: #3B4455;\n",
              "      fill: #D2E3FC;\n",
              "    }\n",
              "\n",
              "    [theme=dark] .colab-df-convert:hover {\n",
              "      background-color: #434B5C;\n",
              "      box-shadow: 0px 1px 3px 1px rgba(0, 0, 0, 0.15);\n",
              "      filter: drop-shadow(0px 1px 2px rgba(0, 0, 0, 0.3));\n",
              "      fill: #FFFFFF;\n",
              "    }\n",
              "  </style>\n",
              "\n",
              "      <script>\n",
              "        const buttonEl =\n",
              "          document.querySelector('#df-c75311c7-3058-4931-a596-e1dc7b711a09 button.colab-df-convert');\n",
              "        buttonEl.style.display =\n",
              "          google.colab.kernel.accessAllowed ? 'block' : 'none';\n",
              "\n",
              "        async function convertToInteractive(key) {\n",
              "          const element = document.querySelector('#df-c75311c7-3058-4931-a596-e1dc7b711a09');\n",
              "          const dataTable =\n",
              "            await google.colab.kernel.invokeFunction('convertToInteractive',\n",
              "                                                     [key], {});\n",
              "          if (!dataTable) return;\n",
              "\n",
              "          const docLinkHtml = 'Like what you see? Visit the ' +\n",
              "            '<a target=\"_blank\" href=https://colab.research.google.com/notebooks/data_table.ipynb>data table notebook</a>'\n",
              "            + ' to learn more about interactive tables.';\n",
              "          element.innerHTML = '';\n",
              "          dataTable['output_type'] = 'display_data';\n",
              "          await google.colab.output.renderOutput(dataTable, element);\n",
              "          const docLink = document.createElement('div');\n",
              "          docLink.innerHTML = docLinkHtml;\n",
              "          element.appendChild(docLink);\n",
              "        }\n",
              "      </script>\n",
              "    </div>\n",
              "  </div>\n",
              "  "
            ]
          },
          "metadata": {},
          "execution_count": 129
        }
      ]
    },
    {
      "cell_type": "code",
      "source": [
        "# ploting accuracies\n",
        "f, ax = plt.subplots(figsize=(8, 6))\n",
        "sns.set_color_codes(\"pastel\")\n",
        "sns.barplot(y=\"Model Name\", x=\"Accuracy Score\", data = accuracy_df, color=\"blue\")\n",
        "plt.show()"
      ],
      "metadata": {
        "id": "4UgRMXb1-boH",
        "colab": {
          "base_uri": "https://localhost:8080/",
          "height": 399
        },
        "outputId": "b491d1cd-d17c-485b-e741-fd06b1c6f132"
      },
      "execution_count": 130,
      "outputs": [
        {
          "output_type": "display_data",
          "data": {
            "text/plain": [
              "<Figure size 576x432 with 1 Axes>"
            ],
            "image/png": "[encoded data removed]"
          },
          "metadata": {}
        }
      ]
    }
  ],
  "metadata": {
    "colab": {
      "collapsed_sections": [],
      "name": "ML_Project_CreditCardApproval.ipynb",
      "provenance": []
    },
    "kernelspec": {
      "display_name": "Python 3",
      "language": "python",
      "name": "python3"
    },
    "language_info": {
      "codemirror_mode": {
        "name": "ipython",
        "version": 3
      },
      "file_extension": ".py",
      "mimetype": "text/x-python",
      "name": "python",
      "nbconvert_exporter": "python",
      "pygments_lexer": "ipython3",
      "version": "3.6.5"
    },
    "accelerator": "GPU"
  },
  "nbformat": 4,
  "nbformat_minor": 0
}